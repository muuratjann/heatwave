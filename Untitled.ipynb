{
 "cells": [
  {
   "cell_type": "code",
   "execution_count": 3,
   "id": "fc5b10e3",
   "metadata": {},
   "outputs": [],
   "source": [
    "import numpy as np\n",
    "import pandas as pd"
   ]
  },
  {
   "cell_type": "markdown",
   "id": "fa730435",
   "metadata": {},
   "source": [
    "# Introduction"
   ]
  },
  {
   "cell_type": "markdown",
   "id": "8cd8f5a2",
   "metadata": {},
   "source": [
    "**We know that that heatwave is the extented period of time when extremely high temperatures are observed relative to the climate of the location. In many literatures the severity of the heatwave is represented by the Excess Heat Factor (EHF) [Nairn et al., 2015](https://pubmed.ncbi.nlm.nih.gov/25546282/) and mathematically it is defined to be:**"
   ]
  },
  {
   "cell_type": "markdown",
   "id": "ed4596d4",
   "metadata": {},
   "source": [
    "$$EHF=EHI_{sig}*max(1, EHI_{accl})$$ \n",
    "\n"
   ]
  },
  {
   "cell_type": "markdown",
   "id": "d5f896a2",
   "metadata": {},
   "source": [
    "where"
   ]
  },
  {
   "cell_type": "markdown",
   "id": "9b6795bd",
   "metadata": {},
   "source": [
    "$$EHI_{sig}=(T_i+T_{i+1}+T_{i+2}/3-T_{95})$$ \n",
    "$$EHI_{accl}=(T_i+T_{i+1}+T_{i+2}/3-T_i+T_{i-1}+...+T_{i-30}/30)$$ \n",
    "\n",
    "\n"
   ]
  },
  {
   "cell_type": "markdown",
   "id": "493d1d8d",
   "metadata": {},
   "source": [
    "**$T_{95}$ is calculated by taking the 95th percetile of the DMTs. DMT of the day if found as the mean of the highest and the lowest temperatures of the given day** "
   ]
  },
  {
   "cell_type": "markdown",
   "id": "eca131fa",
   "metadata": {},
   "source": [
    "# Data collection"
   ]
  },
  {
   "cell_type": "markdown",
   "id": "92152c1e",
   "metadata": {},
   "source": [
    "**Using [Opendata meteo.be](https://opendata.meteo.be) the following temperature data was collected in csv format:**\n"
   ]
  },
  {
   "cell_type": "markdown",
   "id": "af8544f8",
   "metadata": {},
   "source": [
    "*Cities: Brussels, Antwerp, Liege*"
   ]
  },
  {
   "cell_type": "markdown",
   "id": "80dc5350",
   "metadata": {},
   "source": [
    "*Period: 1952-2021* "
   ]
  },
  {
   "cell_type": "markdown",
   "id": "19f9479d",
   "metadata": {},
   "source": [
    "*Frequency: Hourly*"
   ]
  },
  {
   "cell_type": "markdown",
   "id": "71703e72",
   "metadata": {},
   "source": [
    "# Data cleaning and transformation"
   ]
  },
  {
   "cell_type": "code",
   "execution_count": 4,
   "id": "39e3987a",
   "metadata": {},
   "outputs": [],
   "source": [
    "Bru=pd.read_csv(\"./data/Brussels.csv\")\n",
    "Ant=pd.read_csv(\"./data/Antwerp.csv\")\n",
    "Lie=pd.read_csv(\"./data/Liege.csv\")"
   ]
  },
  {
   "cell_type": "code",
   "execution_count": 7,
   "id": "0b8b1273",
   "metadata": {},
   "outputs": [
    {
     "data": {
      "text/html": [
       "<div>\n",
       "<style scoped>\n",
       "    .dataframe tbody tr th:only-of-type {\n",
       "        vertical-align: middle;\n",
       "    }\n",
       "\n",
       "    .dataframe tbody tr th {\n",
       "        vertical-align: top;\n",
       "    }\n",
       "\n",
       "    .dataframe thead th {\n",
       "        text-align: right;\n",
       "    }\n",
       "</style>\n",
       "<table border=\"1\" class=\"dataframe\">\n",
       "  <thead>\n",
       "    <tr style=\"text-align: right;\">\n",
       "      <th></th>\n",
       "      <th>FID</th>\n",
       "      <th>the_geom</th>\n",
       "      <th>code</th>\n",
       "      <th>timestamp</th>\n",
       "      <th>precip_quantity</th>\n",
       "      <th>precip_range</th>\n",
       "      <th>temp</th>\n",
       "      <th>temp_min</th>\n",
       "      <th>temp_max</th>\n",
       "      <th>temp_grass_min</th>\n",
       "      <th>...</th>\n",
       "      <th>wind_speed_unit</th>\n",
       "      <th>wind_direction</th>\n",
       "      <th>wind_peak_speed</th>\n",
       "      <th>humidity_relative</th>\n",
       "      <th>weather_current</th>\n",
       "      <th>pressure</th>\n",
       "      <th>pressure_station_level</th>\n",
       "      <th>sun_duration_24hours</th>\n",
       "      <th>short_wave_from_sky_24hours</th>\n",
       "      <th>cloudiness</th>\n",
       "    </tr>\n",
       "  </thead>\n",
       "  <tbody>\n",
       "    <tr>\n",
       "      <th>0</th>\n",
       "      <td>synop_data.6451.1952-01-01 00:00:00+00</td>\n",
       "      <td>POINT (50.896391 4.526765)</td>\n",
       "      <td>6451</td>\n",
       "      <td>1952-01-01T00:00:00</td>\n",
       "      <td>NaN</td>\n",
       "      <td>NaN</td>\n",
       "      <td>3.0</td>\n",
       "      <td>NaN</td>\n",
       "      <td>NaN</td>\n",
       "      <td>NaN</td>\n",
       "      <td>...</td>\n",
       "      <td>NaN</td>\n",
       "      <td>90.0</td>\n",
       "      <td>NaN</td>\n",
       "      <td>NaN</td>\n",
       "      <td>61.0</td>\n",
       "      <td>1005.5</td>\n",
       "      <td>NaN</td>\n",
       "      <td>NaN</td>\n",
       "      <td>NaN</td>\n",
       "      <td>8.0</td>\n",
       "    </tr>\n",
       "    <tr>\n",
       "      <th>1</th>\n",
       "      <td>synop_data.6451.1952-01-01 03:00:00+00</td>\n",
       "      <td>POINT (50.896391 4.526765)</td>\n",
       "      <td>6451</td>\n",
       "      <td>1952-01-01T03:00:00</td>\n",
       "      <td>NaN</td>\n",
       "      <td>NaN</td>\n",
       "      <td>3.0</td>\n",
       "      <td>NaN</td>\n",
       "      <td>NaN</td>\n",
       "      <td>NaN</td>\n",
       "      <td>...</td>\n",
       "      <td>NaN</td>\n",
       "      <td>NaN</td>\n",
       "      <td>NaN</td>\n",
       "      <td>NaN</td>\n",
       "      <td>50.0</td>\n",
       "      <td>1003.1</td>\n",
       "      <td>NaN</td>\n",
       "      <td>NaN</td>\n",
       "      <td>NaN</td>\n",
       "      <td>8.0</td>\n",
       "    </tr>\n",
       "    <tr>\n",
       "      <th>2</th>\n",
       "      <td>synop_data.6451.1952-01-01 06:00:00+00</td>\n",
       "      <td>POINT (50.896391 4.526765)</td>\n",
       "      <td>6451</td>\n",
       "      <td>1952-01-01T06:00:00</td>\n",
       "      <td>2.0</td>\n",
       "      <td>2.0</td>\n",
       "      <td>3.0</td>\n",
       "      <td>3.0</td>\n",
       "      <td>NaN</td>\n",
       "      <td>NaN</td>\n",
       "      <td>...</td>\n",
       "      <td>NaN</td>\n",
       "      <td>250.0</td>\n",
       "      <td>NaN</td>\n",
       "      <td>NaN</td>\n",
       "      <td>51.0</td>\n",
       "      <td>1004.0</td>\n",
       "      <td>NaN</td>\n",
       "      <td>NaN</td>\n",
       "      <td>NaN</td>\n",
       "      <td>8.0</td>\n",
       "    </tr>\n",
       "    <tr>\n",
       "      <th>3</th>\n",
       "      <td>synop_data.6451.1952-01-01 09:00:00+00</td>\n",
       "      <td>POINT (50.896391 4.526765)</td>\n",
       "      <td>6451</td>\n",
       "      <td>1952-01-01T09:00:00</td>\n",
       "      <td>NaN</td>\n",
       "      <td>NaN</td>\n",
       "      <td>3.0</td>\n",
       "      <td>NaN</td>\n",
       "      <td>NaN</td>\n",
       "      <td>NaN</td>\n",
       "      <td>...</td>\n",
       "      <td>NaN</td>\n",
       "      <td>270.0</td>\n",
       "      <td>NaN</td>\n",
       "      <td>NaN</td>\n",
       "      <td>21.0</td>\n",
       "      <td>1006.9</td>\n",
       "      <td>NaN</td>\n",
       "      <td>NaN</td>\n",
       "      <td>NaN</td>\n",
       "      <td>5.0</td>\n",
       "    </tr>\n",
       "    <tr>\n",
       "      <th>4</th>\n",
       "      <td>synop_data.6451.1952-01-01 12:00:00+00</td>\n",
       "      <td>POINT (50.896391 4.526765)</td>\n",
       "      <td>6451</td>\n",
       "      <td>1952-01-01T12:00:00</td>\n",
       "      <td>NaN</td>\n",
       "      <td>NaN</td>\n",
       "      <td>4.0</td>\n",
       "      <td>NaN</td>\n",
       "      <td>NaN</td>\n",
       "      <td>NaN</td>\n",
       "      <td>...</td>\n",
       "      <td>NaN</td>\n",
       "      <td>260.0</td>\n",
       "      <td>NaN</td>\n",
       "      <td>NaN</td>\n",
       "      <td>25.0</td>\n",
       "      <td>1009.2</td>\n",
       "      <td>NaN</td>\n",
       "      <td>NaN</td>\n",
       "      <td>NaN</td>\n",
       "      <td>6.0</td>\n",
       "    </tr>\n",
       "  </tbody>\n",
       "</table>\n",
       "<p>5 rows × 21 columns</p>\n",
       "</div>"
      ],
      "text/plain": [
       "                                      FID                    the_geom  code  \\\n",
       "0  synop_data.6451.1952-01-01 00:00:00+00  POINT (50.896391 4.526765)  6451   \n",
       "1  synop_data.6451.1952-01-01 03:00:00+00  POINT (50.896391 4.526765)  6451   \n",
       "2  synop_data.6451.1952-01-01 06:00:00+00  POINT (50.896391 4.526765)  6451   \n",
       "3  synop_data.6451.1952-01-01 09:00:00+00  POINT (50.896391 4.526765)  6451   \n",
       "4  synop_data.6451.1952-01-01 12:00:00+00  POINT (50.896391 4.526765)  6451   \n",
       "\n",
       "             timestamp  precip_quantity  precip_range  temp  temp_min  \\\n",
       "0  1952-01-01T00:00:00              NaN           NaN   3.0       NaN   \n",
       "1  1952-01-01T03:00:00              NaN           NaN   3.0       NaN   \n",
       "2  1952-01-01T06:00:00              2.0           2.0   3.0       3.0   \n",
       "3  1952-01-01T09:00:00              NaN           NaN   3.0       NaN   \n",
       "4  1952-01-01T12:00:00              NaN           NaN   4.0       NaN   \n",
       "\n",
       "   temp_max  temp_grass_min  ...  wind_speed_unit  wind_direction  \\\n",
       "0       NaN             NaN  ...              NaN            90.0   \n",
       "1       NaN             NaN  ...              NaN             NaN   \n",
       "2       NaN             NaN  ...              NaN           250.0   \n",
       "3       NaN             NaN  ...              NaN           270.0   \n",
       "4       NaN             NaN  ...              NaN           260.0   \n",
       "\n",
       "   wind_peak_speed  humidity_relative  weather_current  pressure  \\\n",
       "0              NaN                NaN             61.0    1005.5   \n",
       "1              NaN                NaN             50.0    1003.1   \n",
       "2              NaN                NaN             51.0    1004.0   \n",
       "3              NaN                NaN             21.0    1006.9   \n",
       "4              NaN                NaN             25.0    1009.2   \n",
       "\n",
       "   pressure_station_level  sun_duration_24hours  short_wave_from_sky_24hours  \\\n",
       "0                     NaN                   NaN                          NaN   \n",
       "1                     NaN                   NaN                          NaN   \n",
       "2                     NaN                   NaN                          NaN   \n",
       "3                     NaN                   NaN                          NaN   \n",
       "4                     NaN                   NaN                          NaN   \n",
       "\n",
       "   cloudiness  \n",
       "0         8.0  \n",
       "1         8.0  \n",
       "2         8.0  \n",
       "3         5.0  \n",
       "4         6.0  \n",
       "\n",
       "[5 rows x 21 columns]"
      ]
     },
     "execution_count": 7,
     "metadata": {},
     "output_type": "execute_result"
    }
   ],
   "source": [
    "Bru.head()"
   ]
  },
  {
   "cell_type": "markdown",
   "id": "1e92aefa",
   "metadata": {},
   "source": [
    "**As we are using only the information on temperature we need to keep only the timestamp and the temperature**"
   ]
  },
  {
   "cell_type": "code",
   "execution_count": 17,
   "id": "3560cb6d",
   "metadata": {},
   "outputs": [],
   "source": [
    "Bru=Bru[[\"timestamp\", \"temp\"]]\n",
    "Ant=Ant[[\"timestamp\", \"temp\"]]\n",
    "Lie=Lie[[\"timestamp\", \"temp\"]]"
   ]
  },
  {
   "cell_type": "code",
   "execution_count": 18,
   "id": "347f6fdd",
   "metadata": {},
   "outputs": [
    {
     "data": {
      "text/html": [
       "<div>\n",
       "<style scoped>\n",
       "    .dataframe tbody tr th:only-of-type {\n",
       "        vertical-align: middle;\n",
       "    }\n",
       "\n",
       "    .dataframe tbody tr th {\n",
       "        vertical-align: top;\n",
       "    }\n",
       "\n",
       "    .dataframe thead th {\n",
       "        text-align: right;\n",
       "    }\n",
       "</style>\n",
       "<table border=\"1\" class=\"dataframe\">\n",
       "  <thead>\n",
       "    <tr style=\"text-align: right;\">\n",
       "      <th></th>\n",
       "      <th>timestamp</th>\n",
       "      <th>temp</th>\n",
       "    </tr>\n",
       "  </thead>\n",
       "  <tbody>\n",
       "    <tr>\n",
       "      <th>0</th>\n",
       "      <td>1952-01-01T00:00:00</td>\n",
       "      <td>3.0</td>\n",
       "    </tr>\n",
       "    <tr>\n",
       "      <th>1</th>\n",
       "      <td>1952-01-01T03:00:00</td>\n",
       "      <td>3.0</td>\n",
       "    </tr>\n",
       "    <tr>\n",
       "      <th>2</th>\n",
       "      <td>1952-01-01T06:00:00</td>\n",
       "      <td>3.0</td>\n",
       "    </tr>\n",
       "    <tr>\n",
       "      <th>3</th>\n",
       "      <td>1952-01-01T09:00:00</td>\n",
       "      <td>3.0</td>\n",
       "    </tr>\n",
       "    <tr>\n",
       "      <th>4</th>\n",
       "      <td>1952-01-01T12:00:00</td>\n",
       "      <td>4.0</td>\n",
       "    </tr>\n",
       "  </tbody>\n",
       "</table>\n",
       "</div>"
      ],
      "text/plain": [
       "             timestamp  temp\n",
       "0  1952-01-01T00:00:00   3.0\n",
       "1  1952-01-01T03:00:00   3.0\n",
       "2  1952-01-01T06:00:00   3.0\n",
       "3  1952-01-01T09:00:00   3.0\n",
       "4  1952-01-01T12:00:00   4.0"
      ]
     },
     "execution_count": 18,
     "metadata": {},
     "output_type": "execute_result"
    }
   ],
   "source": [
    "Bru.head()"
   ]
  },
  {
   "cell_type": "code",
   "execution_count": 41,
   "id": "d85d3f11",
   "metadata": {},
   "outputs": [
    {
     "name": "stderr",
     "output_type": "stream",
     "text": [
      "/var/folders/6j/49k_8t5j4s598_k9my5p11f00000gn/T/ipykernel_41203/754643932.py:1: SettingWithCopyWarning: \n",
      "A value is trying to be set on a copy of a slice from a DataFrame.\n",
      "Try using .loc[row_indexer,col_indexer] = value instead\n",
      "\n",
      "See the caveats in the documentation: https://pandas.pydata.org/pandas-docs/stable/user_guide/indexing.html#returning-a-view-versus-a-copy\n",
      "  Bru['timestamp_formatted']=pd.to_datetime(Bru['timestamp'])\n"
     ]
    }
   ],
   "source": [
    "Bru['timestamp_formatted']=pd.to_datetime(Bru['timestamp'])"
   ]
  },
  {
   "cell_type": "code",
   "execution_count": 23,
   "id": "73ddeb8a",
   "metadata": {},
   "outputs": [
    {
     "data": {
      "text/plain": [
       "timestamp    0.000000\n",
       "temp         0.000794\n",
       "dtype: float64"
      ]
     },
     "execution_count": 23,
     "metadata": {},
     "output_type": "execute_result"
    }
   ],
   "source": [
    "Bru.isna().sum()/Bru.shape[0]"
   ]
  },
  {
   "cell_type": "code",
   "execution_count": 24,
   "id": "23361872",
   "metadata": {},
   "outputs": [
    {
     "data": {
      "text/plain": [
       "timestamp    0.000000\n",
       "temp         0.034075\n",
       "dtype: float64"
      ]
     },
     "execution_count": 24,
     "metadata": {},
     "output_type": "execute_result"
    }
   ],
   "source": [
    "Ant.isna().sum()/Ant.shape[0]"
   ]
  },
  {
   "cell_type": "code",
   "execution_count": 25,
   "id": "1fc67b5e",
   "metadata": {},
   "outputs": [
    {
     "data": {
      "text/plain": [
       "timestamp    0.000000\n",
       "temp         0.009356\n",
       "dtype: float64"
      ]
     },
     "execution_count": 25,
     "metadata": {},
     "output_type": "execute_result"
    }
   ],
   "source": [
    "Lie.isna().sum()/Lie.shape[0]"
   ]
  },
  {
   "cell_type": "code",
   "execution_count": null,
   "id": "59bae509",
   "metadata": {},
   "outputs": [],
   "source": []
  }
 ],
 "metadata": {
  "kernelspec": {
   "display_name": "Python 3 (ipykernel)",
   "language": "python",
   "name": "python3"
  },
  "language_info": {
   "codemirror_mode": {
    "name": "ipython",
    "version": 3
   },
   "file_extension": ".py",
   "mimetype": "text/x-python",
   "name": "python",
   "nbconvert_exporter": "python",
   "pygments_lexer": "ipython3",
   "version": "3.10.4"
  }
 },
 "nbformat": 4,
 "nbformat_minor": 5
}
