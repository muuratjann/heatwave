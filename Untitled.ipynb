{
 "cells": [
  {
   "cell_type": "markdown",
   "id": "8cd8f5a2",
   "metadata": {},
   "source": [
    "**We know that that heatwave is the extented period of time when extremely high temperatures are observed relative to the climate of the location. In many literatures the severity of the heatwave is represented by the Excess Heat Factor (EHF) [Nairn et al., 2015](https://pubmed.ncbi.nlm.nih.gov/25546282/) and mathematically it is defined to be:**"
   ]
  },
  {
   "cell_type": "markdown",
   "id": "ed4596d4",
   "metadata": {},
   "source": [
    "$$EHF=EHI_{sig}*max(1, EHI_{accl})$$ \n",
    "\n"
   ]
  },
  {
   "cell_type": "markdown",
   "id": "d5f896a2",
   "metadata": {},
   "source": [
    "where"
   ]
  },
  {
   "cell_type": "markdown",
   "id": "9b6795bd",
   "metadata": {},
   "source": [
    "$$EHI_{sig}=(T_i+T_{i+1}+T_{i+2}/3-T_{95})$$ \n",
    "$$EHI_{accl}=(T_i+T_{i+1}+T_{i+2}/3-T_i+T_{i-1}+...+T_{i-30}/30)$$ \n",
    "\n",
    "\n"
   ]
  },
  {
   "cell_type": "markdown",
   "id": "493d1d8d",
   "metadata": {},
   "source": [
    "**$T_{95}$ is calculated by taking the 95th percetile of the DMTs. DMT of the day if found as the mean of the highest and the lowest temperatures of the given day** "
   ]
  },
  {
   "cell_type": "code",
   "execution_count": null,
   "id": "1b6829b7",
   "metadata": {},
   "outputs": [],
   "source": []
  }
 ],
 "metadata": {
  "kernelspec": {
   "display_name": "Python 3 (ipykernel)",
   "language": "python",
   "name": "python3"
  },
  "language_info": {
   "codemirror_mode": {
    "name": "ipython",
    "version": 3
   },
   "file_extension": ".py",
   "mimetype": "text/x-python",
   "name": "python",
   "nbconvert_exporter": "python",
   "pygments_lexer": "ipython3",
   "version": "3.10.4"
  }
 },
 "nbformat": 4,
 "nbformat_minor": 5
}
