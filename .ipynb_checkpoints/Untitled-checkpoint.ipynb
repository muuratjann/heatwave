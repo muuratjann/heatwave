{
 "cells": [
  {
   "cell_type": "code",
   "execution_count": 1,
   "id": "fc5b10e3",
   "metadata": {},
   "outputs": [],
   "source": [
    "import numpy as np\n",
    "import pandas as pd\n",
    "from scipy.stats import iqr, scoreatpercentile"
   ]
  },
  {
   "cell_type": "markdown",
   "id": "fa730435",
   "metadata": {},
   "source": [
    "# Introduction"
   ]
  },
  {
   "cell_type": "markdown",
   "id": "8cd8f5a2",
   "metadata": {},
   "source": [
    "**We know that that heatwave is the extented period of time when extremely high temperatures are observed relative to the climate of the location. In many literatures the severity of the heatwave is represented by the Excess Heat Factor (EHF) [Nairn et al., 2015](https://pubmed.ncbi.nlm.nih.gov/25546282/) and mathematically it is defined to be:**"
   ]
  },
  {
   "cell_type": "markdown",
   "id": "ed4596d4",
   "metadata": {},
   "source": [
    "$$EHF=EHI_{sig}*max(1, EHI_{accl})$$ \n",
    "\n"
   ]
  },
  {
   "cell_type": "markdown",
   "id": "d5f896a2",
   "metadata": {},
   "source": [
    "where"
   ]
  },
  {
   "cell_type": "markdown",
   "id": "9b6795bd",
   "metadata": {},
   "source": [
    "$$EHI_{sig}=(T_i+T_{i+1}+T_{i+2})/3-T_{95}$$ \n",
    "$$EHI_{accl}=(T_i+T_{i+1}+T_{i+2})/3-(T_{i-1}+T_{i-2}+...+T_{i-30})/30$$ \n",
    "\n",
    "\n"
   ]
  },
  {
   "cell_type": "markdown",
   "id": "493d1d8d",
   "metadata": {},
   "source": [
    "**$T_{95}$ is calculated by taking the 95th percetile of the $T_i$s thoughout the year. $T_i$ of the day is found as the mean of the temperatures recorded on the day. Of course the measurements must be equally spaced. Then if we find out that the EHF is a positive number, the three days $T_i, T_{\n",
    "i+1}, T_{i+2}$ are considered heatwave days** "
   ]
  },
  {
   "cell_type": "markdown",
   "id": "eca131fa",
   "metadata": {},
   "source": [
    "# Data collection"
   ]
  },
  {
   "cell_type": "markdown",
   "id": "92152c1e",
   "metadata": {},
   "source": [
    "**Using [Opendata meteo.be](https://opendata.meteo.be) the following temperature data was collected in csv format:**\n"
   ]
  },
  {
   "cell_type": "markdown",
   "id": "af8544f8",
   "metadata": {},
   "source": [
    "*Cities: Brussels, Antwerp, Liege*"
   ]
  },
  {
   "cell_type": "markdown",
   "id": "80dc5350",
   "metadata": {},
   "source": [
    "*Period: 1952-2021* "
   ]
  },
  {
   "cell_type": "markdown",
   "id": "19f9479d",
   "metadata": {},
   "source": [
    "*Frequency: Hourly*"
   ]
  },
  {
   "cell_type": "markdown",
   "id": "71703e72",
   "metadata": {},
   "source": [
    "# Data cleaning and transformation"
   ]
  },
  {
   "cell_type": "code",
   "execution_count": 2,
   "id": "39e3987a",
   "metadata": {},
   "outputs": [],
   "source": [
    "Brussels=pd.read_csv(\"./data/Brussels.csv\")\n",
    "Antwerp=pd.read_csv(\"./data/Antwerp.csv\")\n",
    "Liege=pd.read_csv(\"./data/Liege.csv\")"
   ]
  },
  {
   "cell_type": "code",
   "execution_count": 3,
   "id": "0b8b1273",
   "metadata": {},
   "outputs": [
    {
     "data": {
      "text/html": [
       "<div>\n",
       "<style scoped>\n",
       "    .dataframe tbody tr th:only-of-type {\n",
       "        vertical-align: middle;\n",
       "    }\n",
       "\n",
       "    .dataframe tbody tr th {\n",
       "        vertical-align: top;\n",
       "    }\n",
       "\n",
       "    .dataframe thead th {\n",
       "        text-align: right;\n",
       "    }\n",
       "</style>\n",
       "<table border=\"1\" class=\"dataframe\">\n",
       "  <thead>\n",
       "    <tr style=\"text-align: right;\">\n",
       "      <th></th>\n",
       "      <th>FID</th>\n",
       "      <th>the_geom</th>\n",
       "      <th>code</th>\n",
       "      <th>timestamp</th>\n",
       "      <th>precip_quantity</th>\n",
       "      <th>precip_range</th>\n",
       "      <th>temp</th>\n",
       "      <th>temp_min</th>\n",
       "      <th>temp_max</th>\n",
       "      <th>temp_grass_min</th>\n",
       "      <th>...</th>\n",
       "      <th>wind_speed_unit</th>\n",
       "      <th>wind_direction</th>\n",
       "      <th>wind_peak_speed</th>\n",
       "      <th>humidity_relative</th>\n",
       "      <th>weather_current</th>\n",
       "      <th>pressure</th>\n",
       "      <th>pressure_station_level</th>\n",
       "      <th>sun_duration_24hours</th>\n",
       "      <th>short_wave_from_sky_24hours</th>\n",
       "      <th>cloudiness</th>\n",
       "    </tr>\n",
       "  </thead>\n",
       "  <tbody>\n",
       "    <tr>\n",
       "      <th>0</th>\n",
       "      <td>synop_data.6451.1952-01-01 00:00:00+00</td>\n",
       "      <td>POINT (50.896391 4.526765)</td>\n",
       "      <td>6451</td>\n",
       "      <td>1952-01-01T00:00:00</td>\n",
       "      <td>NaN</td>\n",
       "      <td>NaN</td>\n",
       "      <td>3.0</td>\n",
       "      <td>NaN</td>\n",
       "      <td>NaN</td>\n",
       "      <td>NaN</td>\n",
       "      <td>...</td>\n",
       "      <td>NaN</td>\n",
       "      <td>90.0</td>\n",
       "      <td>NaN</td>\n",
       "      <td>NaN</td>\n",
       "      <td>61.0</td>\n",
       "      <td>1005.5</td>\n",
       "      <td>NaN</td>\n",
       "      <td>NaN</td>\n",
       "      <td>NaN</td>\n",
       "      <td>8.0</td>\n",
       "    </tr>\n",
       "    <tr>\n",
       "      <th>1</th>\n",
       "      <td>synop_data.6451.1952-01-01 03:00:00+00</td>\n",
       "      <td>POINT (50.896391 4.526765)</td>\n",
       "      <td>6451</td>\n",
       "      <td>1952-01-01T03:00:00</td>\n",
       "      <td>NaN</td>\n",
       "      <td>NaN</td>\n",
       "      <td>3.0</td>\n",
       "      <td>NaN</td>\n",
       "      <td>NaN</td>\n",
       "      <td>NaN</td>\n",
       "      <td>...</td>\n",
       "      <td>NaN</td>\n",
       "      <td>NaN</td>\n",
       "      <td>NaN</td>\n",
       "      <td>NaN</td>\n",
       "      <td>50.0</td>\n",
       "      <td>1003.1</td>\n",
       "      <td>NaN</td>\n",
       "      <td>NaN</td>\n",
       "      <td>NaN</td>\n",
       "      <td>8.0</td>\n",
       "    </tr>\n",
       "    <tr>\n",
       "      <th>2</th>\n",
       "      <td>synop_data.6451.1952-01-01 06:00:00+00</td>\n",
       "      <td>POINT (50.896391 4.526765)</td>\n",
       "      <td>6451</td>\n",
       "      <td>1952-01-01T06:00:00</td>\n",
       "      <td>2.0</td>\n",
       "      <td>2.0</td>\n",
       "      <td>3.0</td>\n",
       "      <td>3.0</td>\n",
       "      <td>NaN</td>\n",
       "      <td>NaN</td>\n",
       "      <td>...</td>\n",
       "      <td>NaN</td>\n",
       "      <td>250.0</td>\n",
       "      <td>NaN</td>\n",
       "      <td>NaN</td>\n",
       "      <td>51.0</td>\n",
       "      <td>1004.0</td>\n",
       "      <td>NaN</td>\n",
       "      <td>NaN</td>\n",
       "      <td>NaN</td>\n",
       "      <td>8.0</td>\n",
       "    </tr>\n",
       "    <tr>\n",
       "      <th>3</th>\n",
       "      <td>synop_data.6451.1952-01-01 09:00:00+00</td>\n",
       "      <td>POINT (50.896391 4.526765)</td>\n",
       "      <td>6451</td>\n",
       "      <td>1952-01-01T09:00:00</td>\n",
       "      <td>NaN</td>\n",
       "      <td>NaN</td>\n",
       "      <td>3.0</td>\n",
       "      <td>NaN</td>\n",
       "      <td>NaN</td>\n",
       "      <td>NaN</td>\n",
       "      <td>...</td>\n",
       "      <td>NaN</td>\n",
       "      <td>270.0</td>\n",
       "      <td>NaN</td>\n",
       "      <td>NaN</td>\n",
       "      <td>21.0</td>\n",
       "      <td>1006.9</td>\n",
       "      <td>NaN</td>\n",
       "      <td>NaN</td>\n",
       "      <td>NaN</td>\n",
       "      <td>5.0</td>\n",
       "    </tr>\n",
       "    <tr>\n",
       "      <th>4</th>\n",
       "      <td>synop_data.6451.1952-01-01 12:00:00+00</td>\n",
       "      <td>POINT (50.896391 4.526765)</td>\n",
       "      <td>6451</td>\n",
       "      <td>1952-01-01T12:00:00</td>\n",
       "      <td>NaN</td>\n",
       "      <td>NaN</td>\n",
       "      <td>4.0</td>\n",
       "      <td>NaN</td>\n",
       "      <td>NaN</td>\n",
       "      <td>NaN</td>\n",
       "      <td>...</td>\n",
       "      <td>NaN</td>\n",
       "      <td>260.0</td>\n",
       "      <td>NaN</td>\n",
       "      <td>NaN</td>\n",
       "      <td>25.0</td>\n",
       "      <td>1009.2</td>\n",
       "      <td>NaN</td>\n",
       "      <td>NaN</td>\n",
       "      <td>NaN</td>\n",
       "      <td>6.0</td>\n",
       "    </tr>\n",
       "  </tbody>\n",
       "</table>\n",
       "<p>5 rows × 21 columns</p>\n",
       "</div>"
      ],
      "text/plain": [
       "                                      FID                    the_geom  code  \\\n",
       "0  synop_data.6451.1952-01-01 00:00:00+00  POINT (50.896391 4.526765)  6451   \n",
       "1  synop_data.6451.1952-01-01 03:00:00+00  POINT (50.896391 4.526765)  6451   \n",
       "2  synop_data.6451.1952-01-01 06:00:00+00  POINT (50.896391 4.526765)  6451   \n",
       "3  synop_data.6451.1952-01-01 09:00:00+00  POINT (50.896391 4.526765)  6451   \n",
       "4  synop_data.6451.1952-01-01 12:00:00+00  POINT (50.896391 4.526765)  6451   \n",
       "\n",
       "             timestamp  precip_quantity  precip_range  temp  temp_min  \\\n",
       "0  1952-01-01T00:00:00              NaN           NaN   3.0       NaN   \n",
       "1  1952-01-01T03:00:00              NaN           NaN   3.0       NaN   \n",
       "2  1952-01-01T06:00:00              2.0           2.0   3.0       3.0   \n",
       "3  1952-01-01T09:00:00              NaN           NaN   3.0       NaN   \n",
       "4  1952-01-01T12:00:00              NaN           NaN   4.0       NaN   \n",
       "\n",
       "   temp_max  temp_grass_min  ...  wind_speed_unit  wind_direction  \\\n",
       "0       NaN             NaN  ...              NaN            90.0   \n",
       "1       NaN             NaN  ...              NaN             NaN   \n",
       "2       NaN             NaN  ...              NaN           250.0   \n",
       "3       NaN             NaN  ...              NaN           270.0   \n",
       "4       NaN             NaN  ...              NaN           260.0   \n",
       "\n",
       "   wind_peak_speed  humidity_relative  weather_current  pressure  \\\n",
       "0              NaN                NaN             61.0    1005.5   \n",
       "1              NaN                NaN             50.0    1003.1   \n",
       "2              NaN                NaN             51.0    1004.0   \n",
       "3              NaN                NaN             21.0    1006.9   \n",
       "4              NaN                NaN             25.0    1009.2   \n",
       "\n",
       "   pressure_station_level  sun_duration_24hours  short_wave_from_sky_24hours  \\\n",
       "0                     NaN                   NaN                          NaN   \n",
       "1                     NaN                   NaN                          NaN   \n",
       "2                     NaN                   NaN                          NaN   \n",
       "3                     NaN                   NaN                          NaN   \n",
       "4                     NaN                   NaN                          NaN   \n",
       "\n",
       "   cloudiness  \n",
       "0         8.0  \n",
       "1         8.0  \n",
       "2         8.0  \n",
       "3         5.0  \n",
       "4         6.0  \n",
       "\n",
       "[5 rows x 21 columns]"
      ]
     },
     "execution_count": 3,
     "metadata": {},
     "output_type": "execute_result"
    }
   ],
   "source": [
    "Brussels.head()"
   ]
  },
  {
   "cell_type": "markdown",
   "id": "1e92aefa",
   "metadata": {},
   "source": [
    "**As we are using only the information on temperature we need to keep only the timestamp and the temperature**"
   ]
  },
  {
   "cell_type": "code",
   "execution_count": 4,
   "id": "3560cb6d",
   "metadata": {},
   "outputs": [],
   "source": [
    "Brussels=Brussels[[\"timestamp\", \"temp\"]]\n",
    "Antwerp=Antwerp[[\"timestamp\", \"temp\"]]\n",
    "Liege=Liege[[\"timestamp\", \"temp\"]]"
   ]
  },
  {
   "cell_type": "code",
   "execution_count": 5,
   "id": "347f6fdd",
   "metadata": {},
   "outputs": [
    {
     "data": {
      "text/html": [
       "<div>\n",
       "<style scoped>\n",
       "    .dataframe tbody tr th:only-of-type {\n",
       "        vertical-align: middle;\n",
       "    }\n",
       "\n",
       "    .dataframe tbody tr th {\n",
       "        vertical-align: top;\n",
       "    }\n",
       "\n",
       "    .dataframe thead th {\n",
       "        text-align: right;\n",
       "    }\n",
       "</style>\n",
       "<table border=\"1\" class=\"dataframe\">\n",
       "  <thead>\n",
       "    <tr style=\"text-align: right;\">\n",
       "      <th></th>\n",
       "      <th>timestamp</th>\n",
       "      <th>temp</th>\n",
       "    </tr>\n",
       "  </thead>\n",
       "  <tbody>\n",
       "    <tr>\n",
       "      <th>0</th>\n",
       "      <td>1952-01-01T00:00:00</td>\n",
       "      <td>3.0</td>\n",
       "    </tr>\n",
       "    <tr>\n",
       "      <th>1</th>\n",
       "      <td>1952-01-01T03:00:00</td>\n",
       "      <td>3.0</td>\n",
       "    </tr>\n",
       "    <tr>\n",
       "      <th>2</th>\n",
       "      <td>1952-01-01T06:00:00</td>\n",
       "      <td>3.0</td>\n",
       "    </tr>\n",
       "    <tr>\n",
       "      <th>3</th>\n",
       "      <td>1952-01-01T09:00:00</td>\n",
       "      <td>3.0</td>\n",
       "    </tr>\n",
       "    <tr>\n",
       "      <th>4</th>\n",
       "      <td>1952-01-01T12:00:00</td>\n",
       "      <td>4.0</td>\n",
       "    </tr>\n",
       "  </tbody>\n",
       "</table>\n",
       "</div>"
      ],
      "text/plain": [
       "             timestamp  temp\n",
       "0  1952-01-01T00:00:00   3.0\n",
       "1  1952-01-01T03:00:00   3.0\n",
       "2  1952-01-01T06:00:00   3.0\n",
       "3  1952-01-01T09:00:00   3.0\n",
       "4  1952-01-01T12:00:00   4.0"
      ]
     },
     "execution_count": 5,
     "metadata": {},
     "output_type": "execute_result"
    }
   ],
   "source": [
    "Brussels.head()"
   ]
  },
  {
   "cell_type": "code",
   "execution_count": 6,
   "id": "d85d3f11",
   "metadata": {},
   "outputs": [],
   "source": [
    "cities=[Brussels, Antwerp, Liege]\n",
    "for city in cities:\n",
    "    city['timestamp_formatted']=pd.to_datetime(city['timestamp'])"
   ]
  },
  {
   "cell_type": "code",
   "execution_count": 7,
   "id": "82f1b6fb",
   "metadata": {},
   "outputs": [
    {
     "data": {
      "text/html": [
       "<div>\n",
       "<style scoped>\n",
       "    .dataframe tbody tr th:only-of-type {\n",
       "        vertical-align: middle;\n",
       "    }\n",
       "\n",
       "    .dataframe tbody tr th {\n",
       "        vertical-align: top;\n",
       "    }\n",
       "\n",
       "    .dataframe thead th {\n",
       "        text-align: right;\n",
       "    }\n",
       "</style>\n",
       "<table border=\"1\" class=\"dataframe\">\n",
       "  <thead>\n",
       "    <tr style=\"text-align: right;\">\n",
       "      <th></th>\n",
       "      <th>timestamp</th>\n",
       "      <th>temp</th>\n",
       "      <th>timestamp_formatted</th>\n",
       "    </tr>\n",
       "  </thead>\n",
       "  <tbody>\n",
       "    <tr>\n",
       "      <th>0</th>\n",
       "      <td>1952-01-01T00:00:00</td>\n",
       "      <td>3.0</td>\n",
       "      <td>1952-01-01 00:00:00</td>\n",
       "    </tr>\n",
       "    <tr>\n",
       "      <th>1</th>\n",
       "      <td>1952-01-01T03:00:00</td>\n",
       "      <td>3.0</td>\n",
       "      <td>1952-01-01 03:00:00</td>\n",
       "    </tr>\n",
       "    <tr>\n",
       "      <th>2</th>\n",
       "      <td>1952-01-01T06:00:00</td>\n",
       "      <td>3.0</td>\n",
       "      <td>1952-01-01 06:00:00</td>\n",
       "    </tr>\n",
       "    <tr>\n",
       "      <th>3</th>\n",
       "      <td>1952-01-01T09:00:00</td>\n",
       "      <td>3.0</td>\n",
       "      <td>1952-01-01 09:00:00</td>\n",
       "    </tr>\n",
       "    <tr>\n",
       "      <th>4</th>\n",
       "      <td>1952-01-01T12:00:00</td>\n",
       "      <td>4.0</td>\n",
       "      <td>1952-01-01 12:00:00</td>\n",
       "    </tr>\n",
       "  </tbody>\n",
       "</table>\n",
       "</div>"
      ],
      "text/plain": [
       "             timestamp  temp timestamp_formatted\n",
       "0  1952-01-01T00:00:00   3.0 1952-01-01 00:00:00\n",
       "1  1952-01-01T03:00:00   3.0 1952-01-01 03:00:00\n",
       "2  1952-01-01T06:00:00   3.0 1952-01-01 06:00:00\n",
       "3  1952-01-01T09:00:00   3.0 1952-01-01 09:00:00\n",
       "4  1952-01-01T12:00:00   4.0 1952-01-01 12:00:00"
      ]
     },
     "execution_count": 7,
     "metadata": {},
     "output_type": "execute_result"
    }
   ],
   "source": [
    "Brussels.head()"
   ]
  },
  {
   "cell_type": "code",
   "execution_count": 8,
   "id": "b7b02877",
   "metadata": {},
   "outputs": [
    {
     "name": "stdout",
     "output_type": "stream",
     "text": [
      "<class 'pandas.core.frame.DataFrame'>\n",
      "RangeIndex: 420595 entries, 0 to 420594\n",
      "Data columns (total 3 columns):\n",
      " #   Column               Non-Null Count   Dtype         \n",
      "---  ------               --------------   -----         \n",
      " 0   timestamp            420595 non-null  object        \n",
      " 1   temp                 420261 non-null  float64       \n",
      " 2   timestamp_formatted  420595 non-null  datetime64[ns]\n",
      "dtypes: datetime64[ns](1), float64(1), object(1)\n",
      "memory usage: 9.6+ MB\n"
     ]
    }
   ],
   "source": [
    "Brussels.info()"
   ]
  },
  {
   "cell_type": "code",
   "execution_count": 9,
   "id": "5170090e",
   "metadata": {},
   "outputs": [],
   "source": [
    "for city in cities:\n",
    "    city['year']=city['timestamp_formatted'].dt.year\n",
    "    city['month']=city['timestamp_formatted'].dt.month\n",
    "    city['day']=city['timestamp_formatted'].dt.day\n",
    "    city['hour']=city['timestamp_formatted'].dt.hour\n",
    "    city.drop(labels=['timestamp','timestamp_formatted'], axis=1, inplace=True)"
   ]
  },
  {
   "cell_type": "code",
   "execution_count": 10,
   "id": "342e40b7",
   "metadata": {},
   "outputs": [
    {
     "data": {
      "text/html": [
       "<div>\n",
       "<style scoped>\n",
       "    .dataframe tbody tr th:only-of-type {\n",
       "        vertical-align: middle;\n",
       "    }\n",
       "\n",
       "    .dataframe tbody tr th {\n",
       "        vertical-align: top;\n",
       "    }\n",
       "\n",
       "    .dataframe thead th {\n",
       "        text-align: right;\n",
       "    }\n",
       "</style>\n",
       "<table border=\"1\" class=\"dataframe\">\n",
       "  <thead>\n",
       "    <tr style=\"text-align: right;\">\n",
       "      <th></th>\n",
       "      <th>temp</th>\n",
       "      <th>year</th>\n",
       "      <th>month</th>\n",
       "      <th>day</th>\n",
       "      <th>hour</th>\n",
       "    </tr>\n",
       "  </thead>\n",
       "  <tbody>\n",
       "    <tr>\n",
       "      <th>0</th>\n",
       "      <td>3.0</td>\n",
       "      <td>1952</td>\n",
       "      <td>1</td>\n",
       "      <td>1</td>\n",
       "      <td>0</td>\n",
       "    </tr>\n",
       "    <tr>\n",
       "      <th>1</th>\n",
       "      <td>3.0</td>\n",
       "      <td>1952</td>\n",
       "      <td>1</td>\n",
       "      <td>1</td>\n",
       "      <td>3</td>\n",
       "    </tr>\n",
       "    <tr>\n",
       "      <th>2</th>\n",
       "      <td>3.0</td>\n",
       "      <td>1952</td>\n",
       "      <td>1</td>\n",
       "      <td>1</td>\n",
       "      <td>6</td>\n",
       "    </tr>\n",
       "    <tr>\n",
       "      <th>3</th>\n",
       "      <td>3.0</td>\n",
       "      <td>1952</td>\n",
       "      <td>1</td>\n",
       "      <td>1</td>\n",
       "      <td>9</td>\n",
       "    </tr>\n",
       "    <tr>\n",
       "      <th>4</th>\n",
       "      <td>4.0</td>\n",
       "      <td>1952</td>\n",
       "      <td>1</td>\n",
       "      <td>1</td>\n",
       "      <td>12</td>\n",
       "    </tr>\n",
       "    <tr>\n",
       "      <th>5</th>\n",
       "      <td>5.0</td>\n",
       "      <td>1952</td>\n",
       "      <td>1</td>\n",
       "      <td>1</td>\n",
       "      <td>15</td>\n",
       "    </tr>\n",
       "    <tr>\n",
       "      <th>6</th>\n",
       "      <td>3.0</td>\n",
       "      <td>1952</td>\n",
       "      <td>1</td>\n",
       "      <td>1</td>\n",
       "      <td>18</td>\n",
       "    </tr>\n",
       "    <tr>\n",
       "      <th>7</th>\n",
       "      <td>2.0</td>\n",
       "      <td>1952</td>\n",
       "      <td>1</td>\n",
       "      <td>1</td>\n",
       "      <td>21</td>\n",
       "    </tr>\n",
       "    <tr>\n",
       "      <th>8</th>\n",
       "      <td>3.0</td>\n",
       "      <td>1952</td>\n",
       "      <td>1</td>\n",
       "      <td>2</td>\n",
       "      <td>0</td>\n",
       "    </tr>\n",
       "    <tr>\n",
       "      <th>9</th>\n",
       "      <td>3.0</td>\n",
       "      <td>1952</td>\n",
       "      <td>1</td>\n",
       "      <td>2</td>\n",
       "      <td>3</td>\n",
       "    </tr>\n",
       "  </tbody>\n",
       "</table>\n",
       "</div>"
      ],
      "text/plain": [
       "   temp  year  month  day  hour\n",
       "0   3.0  1952      1    1     0\n",
       "1   3.0  1952      1    1     3\n",
       "2   3.0  1952      1    1     6\n",
       "3   3.0  1952      1    1     9\n",
       "4   4.0  1952      1    1    12\n",
       "5   5.0  1952      1    1    15\n",
       "6   3.0  1952      1    1    18\n",
       "7   2.0  1952      1    1    21\n",
       "8   3.0  1952      1    2     0\n",
       "9   3.0  1952      1    2     3"
      ]
     },
     "execution_count": 10,
     "metadata": {},
     "output_type": "execute_result"
    }
   ],
   "source": [
    "Brussels.head(10)"
   ]
  },
  {
   "cell_type": "code",
   "execution_count": 11,
   "id": "8d540e23",
   "metadata": {},
   "outputs": [],
   "source": [
    "Bru_summer=Brussels[Brussels['month'].isin([5,6,7,8])]"
   ]
  },
  {
   "cell_type": "code",
   "execution_count": 12,
   "id": "f7a2562f",
   "metadata": {},
   "outputs": [],
   "source": [
    "Ant_summer=Antwerp[Antwerp['month'].isin([5,6,7,8])]"
   ]
  },
  {
   "cell_type": "code",
   "execution_count": 13,
   "id": "ef6f9b0c",
   "metadata": {},
   "outputs": [],
   "source": [
    "Lie_summer=Liege[Liege['month'].isin([5,6,7,8])]"
   ]
  },
  {
   "cell_type": "markdown",
   "id": "ab2f5e54",
   "metadata": {},
   "source": [
    "**Problems might arise with calculating the mean teperature of the day correctly**\n",
    "1. Not enough observations \n",
    "2. Observations are not regularly spaced"
   ]
  },
  {
   "cell_type": "markdown",
   "id": "d6a847c5",
   "metadata": {},
   "source": [
    "# 1"
   ]
  },
  {
   "cell_type": "markdown",
   "id": "185c6c8e",
   "metadata": {},
   "source": [
    "**Here we find the days where the number of observations was less than 4**"
   ]
  },
  {
   "cell_type": "code",
   "execution_count": 14,
   "id": "858332f6",
   "metadata": {},
   "outputs": [],
   "source": [
    "pd.set_option('display.max_rows', 300)"
   ]
  },
  {
   "cell_type": "code",
   "execution_count": 15,
   "id": "ade38a6b",
   "metadata": {},
   "outputs": [
    {
     "data": {
      "text/html": [
       "<div>\n",
       "<style scoped>\n",
       "    .dataframe tbody tr th:only-of-type {\n",
       "        vertical-align: middle;\n",
       "    }\n",
       "\n",
       "    .dataframe tbody tr th {\n",
       "        vertical-align: top;\n",
       "    }\n",
       "\n",
       "    .dataframe thead th {\n",
       "        text-align: right;\n",
       "    }\n",
       "</style>\n",
       "<table border=\"1\" class=\"dataframe\">\n",
       "  <thead>\n",
       "    <tr style=\"text-align: right;\">\n",
       "      <th></th>\n",
       "      <th></th>\n",
       "      <th></th>\n",
       "      <th>temp</th>\n",
       "    </tr>\n",
       "    <tr>\n",
       "      <th>year</th>\n",
       "      <th>month</th>\n",
       "      <th>day</th>\n",
       "      <th></th>\n",
       "    </tr>\n",
       "  </thead>\n",
       "  <tbody>\n",
       "    <tr>\n",
       "      <th>1960</th>\n",
       "      <th>5</th>\n",
       "      <th>25</th>\n",
       "      <td>0</td>\n",
       "    </tr>\n",
       "  </tbody>\n",
       "</table>\n",
       "</div>"
      ],
      "text/plain": [
       "                temp\n",
       "year month day      \n",
       "1960 5     25      0"
      ]
     },
     "execution_count": 15,
     "metadata": {},
     "output_type": "execute_result"
    }
   ],
   "source": [
    "Bru_count=Bru_summer.set_index(['year', 'month', 'day']).groupby(level=[0, 1, 2]).count()[['temp']]\n",
    "Bru_count[Bru_count['temp']<4]"
   ]
  },
  {
   "cell_type": "code",
   "execution_count": 16,
   "id": "b5175c54",
   "metadata": {},
   "outputs": [
    {
     "data": {
      "text/html": [
       "<div>\n",
       "<style scoped>\n",
       "    .dataframe tbody tr th:only-of-type {\n",
       "        vertical-align: middle;\n",
       "    }\n",
       "\n",
       "    .dataframe tbody tr th {\n",
       "        vertical-align: top;\n",
       "    }\n",
       "\n",
       "    .dataframe thead th {\n",
       "        text-align: right;\n",
       "    }\n",
       "</style>\n",
       "<table border=\"1\" class=\"dataframe\">\n",
       "  <thead>\n",
       "    <tr style=\"text-align: right;\">\n",
       "      <th></th>\n",
       "      <th></th>\n",
       "      <th></th>\n",
       "      <th>temp</th>\n",
       "    </tr>\n",
       "    <tr>\n",
       "      <th>year</th>\n",
       "      <th>month</th>\n",
       "      <th>day</th>\n",
       "      <th></th>\n",
       "    </tr>\n",
       "  </thead>\n",
       "  <tbody>\n",
       "    <tr>\n",
       "      <th>1964</th>\n",
       "      <th>8</th>\n",
       "      <th>18</th>\n",
       "      <td>0</td>\n",
       "    </tr>\n",
       "    <tr>\n",
       "      <th>1978</th>\n",
       "      <th>5</th>\n",
       "      <th>12</th>\n",
       "      <td>2</td>\n",
       "    </tr>\n",
       "  </tbody>\n",
       "</table>\n",
       "</div>"
      ],
      "text/plain": [
       "                temp\n",
       "year month day      \n",
       "1964 8     18      0\n",
       "1978 5     12      2"
      ]
     },
     "execution_count": 16,
     "metadata": {},
     "output_type": "execute_result"
    }
   ],
   "source": [
    "Ant_count=Ant_summer.set_index(['year', 'month', 'day']).groupby(level=[0, 1, 2]).count()[['temp']]\n",
    "Ant_count[Ant_count['temp']<4]"
   ]
  },
  {
   "cell_type": "code",
   "execution_count": 17,
   "id": "fdc087a4",
   "metadata": {},
   "outputs": [
    {
     "data": {
      "text/html": [
       "<div>\n",
       "<style scoped>\n",
       "    .dataframe tbody tr th:only-of-type {\n",
       "        vertical-align: middle;\n",
       "    }\n",
       "\n",
       "    .dataframe tbody tr th {\n",
       "        vertical-align: top;\n",
       "    }\n",
       "\n",
       "    .dataframe thead th {\n",
       "        text-align: right;\n",
       "    }\n",
       "</style>\n",
       "<table border=\"1\" class=\"dataframe\">\n",
       "  <thead>\n",
       "    <tr style=\"text-align: right;\">\n",
       "      <th></th>\n",
       "      <th></th>\n",
       "      <th></th>\n",
       "      <th>temp</th>\n",
       "    </tr>\n",
       "    <tr>\n",
       "      <th>year</th>\n",
       "      <th>month</th>\n",
       "      <th>day</th>\n",
       "      <th></th>\n",
       "    </tr>\n",
       "  </thead>\n",
       "  <tbody>\n",
       "    <tr>\n",
       "      <th rowspan=\"2\" valign=\"top\">1954</th>\n",
       "      <th rowspan=\"2\" valign=\"top\">7</th>\n",
       "      <th>29</th>\n",
       "      <td>2</td>\n",
       "    </tr>\n",
       "    <tr>\n",
       "      <th>30</th>\n",
       "      <td>2</td>\n",
       "    </tr>\n",
       "    <tr>\n",
       "      <th>1976</th>\n",
       "      <th>7</th>\n",
       "      <th>25</th>\n",
       "      <td>1</td>\n",
       "    </tr>\n",
       "  </tbody>\n",
       "</table>\n",
       "</div>"
      ],
      "text/plain": [
       "                temp\n",
       "year month day      \n",
       "1954 7     29      2\n",
       "           30      2\n",
       "1976 7     25      1"
      ]
     },
     "execution_count": 17,
     "metadata": {},
     "output_type": "execute_result"
    }
   ],
   "source": [
    "Lie_count=Lie_summer.set_index(['year', 'month', 'day']).groupby(level=[0, 1, 2]).count()[['temp']]\n",
    "Lie_count[Lie_count['temp']<4]"
   ]
  },
  {
   "cell_type": "markdown",
   "id": "ec1e5ef2",
   "metadata": {},
   "source": [
    "**Thus, we see that for Brussels there is only one day where we have no observation at all. For Antwerp, there are two days for which the number of observations is less than 4. For Liege, that number is only 3.**"
   ]
  },
  {
   "cell_type": "markdown",
   "id": "6602d464",
   "metadata": {},
   "source": [
    "# 2"
   ]
  },
  {
   "cell_type": "markdown",
   "id": "2a4404fe",
   "metadata": {},
   "source": [
    "**Here we check if the observations are regularly spaced (at least close to)**"
   ]
  },
  {
   "cell_type": "code",
   "execution_count": 18,
   "id": "72d1733c",
   "metadata": {},
   "outputs": [],
   "source": [
    "Bru_summer=Bru_summer.reset_index().drop(columns=[\"index\"])\n",
    "Ant_summer=Ant_summer.reset_index().drop(columns=[\"index\"])\n",
    "Lie_summer=Lie_summer.reset_index().drop(columns=[\"index\"])"
   ]
  },
  {
   "cell_type": "code",
   "execution_count": 19,
   "id": "4d8a4a8c",
   "metadata": {},
   "outputs": [],
   "source": [
    "Bru_summer['hour_unif']=Bru_summer['hour'].apply(lambda x: x/24)\n",
    "Ant_summer['hour_unif']=Ant_summer['hour'].apply(lambda x: x/24)\n",
    "Lie_summer['hour_unif']=Lie_summer['hour'].apply(lambda x: x/24)"
   ]
  },
  {
   "cell_type": "code",
   "execution_count": 20,
   "id": "0f784a47",
   "metadata": {},
   "outputs": [],
   "source": [
    "pd.set_option('max_colwidth', None)"
   ]
  },
  {
   "cell_type": "code",
   "execution_count": 21,
   "id": "c5bb802a",
   "metadata": {},
   "outputs": [],
   "source": [
    "Bru_spread=Bru_summer.set_index(['year', 'month', 'day']).groupby(level=[0, 1, 2])[['hour_unif']].agg(iqr)\n",
    "Bru_spread['measurements']=Bru_summer.set_index(['year', 'month', 'day']).groupby(level=[0, 1, 2])['hour'].apply(list)\n",
    "Bru_spread.rename(columns={'hour_unif':'iqr'}, inplace=True)"
   ]
  },
  {
   "cell_type": "code",
   "execution_count": 22,
   "id": "cd5a00b5",
   "metadata": {},
   "outputs": [
    {
     "data": {
      "text/html": [
       "<div>\n",
       "<style scoped>\n",
       "    .dataframe tbody tr th:only-of-type {\n",
       "        vertical-align: middle;\n",
       "    }\n",
       "\n",
       "    .dataframe tbody tr th {\n",
       "        vertical-align: top;\n",
       "    }\n",
       "\n",
       "    .dataframe thead th {\n",
       "        text-align: right;\n",
       "    }\n",
       "</style>\n",
       "<table border=\"1\" class=\"dataframe\">\n",
       "  <thead>\n",
       "    <tr style=\"text-align: right;\">\n",
       "      <th></th>\n",
       "      <th></th>\n",
       "      <th></th>\n",
       "      <th>iqr</th>\n",
       "      <th>measurements</th>\n",
       "    </tr>\n",
       "    <tr>\n",
       "      <th>year</th>\n",
       "      <th>month</th>\n",
       "      <th>day</th>\n",
       "      <th></th>\n",
       "      <th></th>\n",
       "    </tr>\n",
       "  </thead>\n",
       "  <tbody>\n",
       "    <tr>\n",
       "      <th>2004</th>\n",
       "      <th>6</th>\n",
       "      <th>3</th>\n",
       "      <td>0.25</td>\n",
       "      <td>[0, 4, 5, 6, 7, 8, 9, 10, 11, 12, 21, 22, 23]</td>\n",
       "    </tr>\n",
       "  </tbody>\n",
       "</table>\n",
       "</div>"
      ],
      "text/plain": [
       "                 iqr                                   measurements\n",
       "year month day                                                     \n",
       "2004 6     3    0.25  [0, 4, 5, 6, 7, 8, 9, 10, 11, 12, 21, 22, 23]"
      ]
     },
     "execution_count": 22,
     "metadata": {},
     "output_type": "execute_result"
    }
   ],
   "source": [
    "Bru_spread[np.logical_or(Bru_spread['iqr']>0.6, Bru_spread['iqr']<0.4)]"
   ]
  },
  {
   "cell_type": "code",
   "execution_count": 23,
   "id": "67522861",
   "metadata": {},
   "outputs": [],
   "source": [
    "Ant_spread=Ant_summer.set_index(['year', 'month', 'day']).groupby(level=[0, 1, 2])[['hour_unif']].agg(iqr)\n",
    "Ant_spread['measurements']=Ant_summer.set_index(['year', 'month', 'day']).groupby(level=[0, 1, 2])['hour'].apply(list)\n",
    "Ant_spread.rename(columns={'hour_unif':'iqr'}, inplace=True)"
   ]
  },
  {
   "cell_type": "code",
   "execution_count": 24,
   "id": "58514130",
   "metadata": {},
   "outputs": [
    {
     "data": {
      "text/html": [
       "<div>\n",
       "<style scoped>\n",
       "    .dataframe tbody tr th:only-of-type {\n",
       "        vertical-align: middle;\n",
       "    }\n",
       "\n",
       "    .dataframe tbody tr th {\n",
       "        vertical-align: top;\n",
       "    }\n",
       "\n",
       "    .dataframe thead th {\n",
       "        text-align: right;\n",
       "    }\n",
       "</style>\n",
       "<table border=\"1\" class=\"dataframe\">\n",
       "  <thead>\n",
       "    <tr style=\"text-align: right;\">\n",
       "      <th></th>\n",
       "      <th></th>\n",
       "      <th></th>\n",
       "      <th>iqr</th>\n",
       "      <th>measurements</th>\n",
       "    </tr>\n",
       "    <tr>\n",
       "      <th>year</th>\n",
       "      <th>month</th>\n",
       "      <th>day</th>\n",
       "      <th></th>\n",
       "      <th></th>\n",
       "    </tr>\n",
       "  </thead>\n",
       "  <tbody>\n",
       "    <tr>\n",
       "      <th rowspan=\"2\" valign=\"top\">1978</th>\n",
       "      <th rowspan=\"2\" valign=\"top\">5</th>\n",
       "      <th>12</th>\n",
       "      <td>0.062500</td>\n",
       "      <td>[0, 3]</td>\n",
       "    </tr>\n",
       "    <tr>\n",
       "      <th>13</th>\n",
       "      <td>0.312500</td>\n",
       "      <td>[6, 9, 12, 15, 18, 21]</td>\n",
       "    </tr>\n",
       "    <tr>\n",
       "      <th rowspan=\"14\" valign=\"top\">1980</th>\n",
       "      <th>5</th>\n",
       "      <th>3</th>\n",
       "      <td>0.312500</td>\n",
       "      <td>[6, 9, 12, 15, 18, 21]</td>\n",
       "    </tr>\n",
       "    <tr>\n",
       "      <th>7</th>\n",
       "      <th>26</th>\n",
       "      <td>0.312500</td>\n",
       "      <td>[6, 9, 12, 15, 18, 21]</td>\n",
       "    </tr>\n",
       "    <tr>\n",
       "      <th rowspan=\"12\" valign=\"top\">8</th>\n",
       "      <th>2</th>\n",
       "      <td>0.312500</td>\n",
       "      <td>[6, 9, 12, 15, 18, 21]</td>\n",
       "    </tr>\n",
       "    <tr>\n",
       "      <th>3</th>\n",
       "      <td>0.312500</td>\n",
       "      <td>[6, 9, 12, 15, 18, 21]</td>\n",
       "    </tr>\n",
       "    <tr>\n",
       "      <th>4</th>\n",
       "      <td>0.312500</td>\n",
       "      <td>[6, 9, 12, 15, 18, 21]</td>\n",
       "    </tr>\n",
       "    <tr>\n",
       "      <th>5</th>\n",
       "      <td>0.312500</td>\n",
       "      <td>[6, 9, 12, 15, 18, 21]</td>\n",
       "    </tr>\n",
       "    <tr>\n",
       "      <th>6</th>\n",
       "      <td>0.312500</td>\n",
       "      <td>[6, 9, 12, 15, 18, 21]</td>\n",
       "    </tr>\n",
       "    <tr>\n",
       "      <th>7</th>\n",
       "      <td>0.312500</td>\n",
       "      <td>[6, 9, 12, 15, 18, 21]</td>\n",
       "    </tr>\n",
       "    <tr>\n",
       "      <th>8</th>\n",
       "      <td>0.312500</td>\n",
       "      <td>[6, 9, 12, 15, 18, 21]</td>\n",
       "    </tr>\n",
       "    <tr>\n",
       "      <th>9</th>\n",
       "      <td>0.312500</td>\n",
       "      <td>[6, 9, 12, 15, 18, 21]</td>\n",
       "    </tr>\n",
       "    <tr>\n",
       "      <th>10</th>\n",
       "      <td>0.312500</td>\n",
       "      <td>[6, 9, 12, 15, 18, 21]</td>\n",
       "    </tr>\n",
       "    <tr>\n",
       "      <th>11</th>\n",
       "      <td>0.312500</td>\n",
       "      <td>[6, 9, 12, 15, 18, 21]</td>\n",
       "    </tr>\n",
       "    <tr>\n",
       "      <th>19</th>\n",
       "      <td>0.312500</td>\n",
       "      <td>[6, 9, 12, 15, 18, 21]</td>\n",
       "    </tr>\n",
       "    <tr>\n",
       "      <th>20</th>\n",
       "      <td>0.312500</td>\n",
       "      <td>[6, 9, 12, 15, 18, 21]</td>\n",
       "    </tr>\n",
       "    <tr>\n",
       "      <th rowspan=\"3\" valign=\"top\">1981</th>\n",
       "      <th rowspan=\"3\" valign=\"top\">7</th>\n",
       "      <th>7</th>\n",
       "      <td>0.312500</td>\n",
       "      <td>[6, 9, 12, 15, 18, 21]</td>\n",
       "    </tr>\n",
       "    <tr>\n",
       "      <th>8</th>\n",
       "      <td>0.312500</td>\n",
       "      <td>[6, 9, 12, 15, 18, 21]</td>\n",
       "    </tr>\n",
       "    <tr>\n",
       "      <th>9</th>\n",
       "      <td>0.312500</td>\n",
       "      <td>[6, 9, 12, 15, 18, 21]</td>\n",
       "    </tr>\n",
       "    <tr>\n",
       "      <th>2004</th>\n",
       "      <th>6</th>\n",
       "      <th>3</th>\n",
       "      <td>0.250000</td>\n",
       "      <td>[0, 4, 5, 6, 7, 8, 9, 10, 11, 12, 21, 22, 23]</td>\n",
       "    </tr>\n",
       "    <tr>\n",
       "      <th>2006</th>\n",
       "      <th>6</th>\n",
       "      <th>2</th>\n",
       "      <td>0.333333</td>\n",
       "      <td>[7, 8, 9, 10, 11, 12, 13, 14, 15, 16, 17, 18, 19, 20, 21, 22, 23]</td>\n",
       "    </tr>\n",
       "  </tbody>\n",
       "</table>\n",
       "</div>"
      ],
      "text/plain": [
       "                     iqr  \\\n",
       "year month day             \n",
       "1978 5     12   0.062500   \n",
       "           13   0.312500   \n",
       "1980 5     3    0.312500   \n",
       "     7     26   0.312500   \n",
       "     8     2    0.312500   \n",
       "           3    0.312500   \n",
       "           4    0.312500   \n",
       "           5    0.312500   \n",
       "           6    0.312500   \n",
       "           7    0.312500   \n",
       "           8    0.312500   \n",
       "           9    0.312500   \n",
       "           10   0.312500   \n",
       "           11   0.312500   \n",
       "           19   0.312500   \n",
       "           20   0.312500   \n",
       "1981 7     7    0.312500   \n",
       "           8    0.312500   \n",
       "           9    0.312500   \n",
       "2004 6     3    0.250000   \n",
       "2006 6     2    0.333333   \n",
       "\n",
       "                                                                     measurements  \n",
       "year month day                                                                     \n",
       "1978 5     12                                                              [0, 3]  \n",
       "           13                                              [6, 9, 12, 15, 18, 21]  \n",
       "1980 5     3                                               [6, 9, 12, 15, 18, 21]  \n",
       "     7     26                                              [6, 9, 12, 15, 18, 21]  \n",
       "     8     2                                               [6, 9, 12, 15, 18, 21]  \n",
       "           3                                               [6, 9, 12, 15, 18, 21]  \n",
       "           4                                               [6, 9, 12, 15, 18, 21]  \n",
       "           5                                               [6, 9, 12, 15, 18, 21]  \n",
       "           6                                               [6, 9, 12, 15, 18, 21]  \n",
       "           7                                               [6, 9, 12, 15, 18, 21]  \n",
       "           8                                               [6, 9, 12, 15, 18, 21]  \n",
       "           9                                               [6, 9, 12, 15, 18, 21]  \n",
       "           10                                              [6, 9, 12, 15, 18, 21]  \n",
       "           11                                              [6, 9, 12, 15, 18, 21]  \n",
       "           19                                              [6, 9, 12, 15, 18, 21]  \n",
       "           20                                              [6, 9, 12, 15, 18, 21]  \n",
       "1981 7     7                                               [6, 9, 12, 15, 18, 21]  \n",
       "           8                                               [6, 9, 12, 15, 18, 21]  \n",
       "           9                                               [6, 9, 12, 15, 18, 21]  \n",
       "2004 6     3                        [0, 4, 5, 6, 7, 8, 9, 10, 11, 12, 21, 22, 23]  \n",
       "2006 6     2    [7, 8, 9, 10, 11, 12, 13, 14, 15, 16, 17, 18, 19, 20, 21, 22, 23]  "
      ]
     },
     "execution_count": 24,
     "metadata": {},
     "output_type": "execute_result"
    }
   ],
   "source": [
    "Ant_spread[np.logical_or(Ant_spread['iqr']>0.6, Ant_spread['iqr']<0.4)]"
   ]
  },
  {
   "cell_type": "code",
   "execution_count": 25,
   "id": "10b54262",
   "metadata": {},
   "outputs": [],
   "source": [
    "Lie_spread=Lie_summer.set_index(['year', 'month', 'day']).groupby(level=[0, 1, 2])[['hour_unif']].agg(iqr)\n",
    "Lie_spread['measurements']=Lie_summer.set_index(['year', 'month', 'day']).groupby(level=[0, 1, 2])['hour'].apply(list)\n",
    "Lie_spread.rename(columns={'hour_unif':'iqr'}, inplace=True)"
   ]
  },
  {
   "cell_type": "code",
   "execution_count": 26,
   "id": "657693e3",
   "metadata": {},
   "outputs": [
    {
     "data": {
      "text/html": [
       "<div>\n",
       "<style scoped>\n",
       "    .dataframe tbody tr th:only-of-type {\n",
       "        vertical-align: middle;\n",
       "    }\n",
       "\n",
       "    .dataframe tbody tr th {\n",
       "        vertical-align: top;\n",
       "    }\n",
       "\n",
       "    .dataframe thead th {\n",
       "        text-align: right;\n",
       "    }\n",
       "</style>\n",
       "<table border=\"1\" class=\"dataframe\">\n",
       "  <thead>\n",
       "    <tr style=\"text-align: right;\">\n",
       "      <th></th>\n",
       "      <th></th>\n",
       "      <th></th>\n",
       "      <th>iqr</th>\n",
       "      <th>measurements</th>\n",
       "    </tr>\n",
       "    <tr>\n",
       "      <th>year</th>\n",
       "      <th>month</th>\n",
       "      <th>day</th>\n",
       "      <th></th>\n",
       "      <th></th>\n",
       "    </tr>\n",
       "  </thead>\n",
       "  <tbody>\n",
       "    <tr>\n",
       "      <th rowspan=\"6\" valign=\"top\">2004</th>\n",
       "      <th rowspan=\"2\" valign=\"top\">5</th>\n",
       "      <th>26</th>\n",
       "      <td>0.375000</td>\n",
       "      <td>[0, 1, 2, 3, 4, 5, 6, 7, 8, 9, 10, 11, 12, 13, 14, 16, 17, 18, 19]</td>\n",
       "    </tr>\n",
       "    <tr>\n",
       "      <th>27</th>\n",
       "      <td>0.395833</td>\n",
       "      <td>[2, 3, 4, 5, 6, 7, 8, 9, 10, 11, 12, 13, 14, 15, 16, 17, 18, 20, 21, 22]</td>\n",
       "    </tr>\n",
       "    <tr>\n",
       "      <th rowspan=\"2\" valign=\"top\">6</th>\n",
       "      <th>3</th>\n",
       "      <td>0.250000</td>\n",
       "      <td>[0, 4, 5, 6, 7, 8, 9, 10, 11, 12, 21, 22, 23]</td>\n",
       "    </tr>\n",
       "    <tr>\n",
       "      <th>27</th>\n",
       "      <td>0.395833</td>\n",
       "      <td>[3, 5, 6, 7, 8, 9, 10, 11, 12, 13, 14, 15, 16, 17, 18, 19, 20, 21, 22, 23]</td>\n",
       "    </tr>\n",
       "    <tr>\n",
       "      <th>7</th>\n",
       "      <th>30</th>\n",
       "      <td>0.375000</td>\n",
       "      <td>[0, 1, 2, 3, 4, 5, 6, 7, 8, 9, 10, 11, 12, 13, 14, 15, 16, 17, 20]</td>\n",
       "    </tr>\n",
       "    <tr>\n",
       "      <th>8</th>\n",
       "      <th>9</th>\n",
       "      <td>0.354167</td>\n",
       "      <td>[0, 1, 2, 3, 4, 5, 6, 7, 8, 9, 10, 11, 12, 13, 14, 15, 16, 17]</td>\n",
       "    </tr>\n",
       "  </tbody>\n",
       "</table>\n",
       "</div>"
      ],
      "text/plain": [
       "                     iqr  \\\n",
       "year month day             \n",
       "2004 5     26   0.375000   \n",
       "           27   0.395833   \n",
       "     6     3    0.250000   \n",
       "           27   0.395833   \n",
       "     7     30   0.375000   \n",
       "     8     9    0.354167   \n",
       "\n",
       "                                                                              measurements  \n",
       "year month day                                                                              \n",
       "2004 5     26           [0, 1, 2, 3, 4, 5, 6, 7, 8, 9, 10, 11, 12, 13, 14, 16, 17, 18, 19]  \n",
       "           27     [2, 3, 4, 5, 6, 7, 8, 9, 10, 11, 12, 13, 14, 15, 16, 17, 18, 20, 21, 22]  \n",
       "     6     3                                 [0, 4, 5, 6, 7, 8, 9, 10, 11, 12, 21, 22, 23]  \n",
       "           27   [3, 5, 6, 7, 8, 9, 10, 11, 12, 13, 14, 15, 16, 17, 18, 19, 20, 21, 22, 23]  \n",
       "     7     30           [0, 1, 2, 3, 4, 5, 6, 7, 8, 9, 10, 11, 12, 13, 14, 15, 16, 17, 20]  \n",
       "     8     9                [0, 1, 2, 3, 4, 5, 6, 7, 8, 9, 10, 11, 12, 13, 14, 15, 16, 17]  "
      ]
     },
     "execution_count": 26,
     "metadata": {},
     "output_type": "execute_result"
    }
   ],
   "source": [
    "Lie_spread[np.logical_or(Lie_spread['iqr']>0.6, Lie_spread['iqr']<0.4)]"
   ]
  },
  {
   "cell_type": "markdown",
   "id": "3f8afab4",
   "metadata": {},
   "source": [
    "**For Antwerp, although (6, 9, 12, 15, 18, 21) ignores the nighttime measurements we cannot interpolate from neighboring days as they come in rows. So, I would drop the year 1980, 1981. The other non-reliable temperatures can be interpolated from the neighboring days.**"
   ]
  },
  {
   "cell_type": "markdown",
   "id": "dab34750",
   "metadata": {},
   "source": [
    "# Daily mean computation, interpolation, dropping some years"
   ]
  },
  {
   "cell_type": "code",
   "execution_count": 27,
   "id": "ce575798",
   "metadata": {},
   "outputs": [],
   "source": [
    "Bru=Bru_summer.set_index(['year', 'month', 'day']).groupby(level=[0, 1, 2])[['temp']].mean()\n",
    "Ant=Ant_summer.set_index(['year', 'month', 'day']).groupby(level=[0, 1, 2])[['temp']].mean()\n",
    "Lie=Lie_summer.set_index(['year', 'month', 'day']).groupby(level=[0, 1, 2])[['temp']].mean()"
   ]
  },
  {
   "cell_type": "code",
   "execution_count": 28,
   "id": "f0376ab9",
   "metadata": {},
   "outputs": [],
   "source": [
    "Ant.drop([1980, 1981], level=0, axis=0, inplace=True)"
   ]
  },
  {
   "cell_type": "code",
   "execution_count": 29,
   "id": "f0813d32",
   "metadata": {},
   "outputs": [],
   "source": [
    "Bru.loc[1960, 5, 25]=(Bru.xs((1960, 5, 24))+Bru.xs((1960, 5, 26)))/2\n",
    "Bru.loc[2004, 6, 3]=(Bru.xs((2004, 6, 2))+Bru.xs((2004, 6, 4)))/2\n",
    "Ant.loc[1964, 8, 18]=(Ant.xs((1964, 8, 17))+Ant.xs((1964, 8, 19)))/2\n",
    "Ant.loc[1978, 5, 12]=(Ant.xs((1978, 5, 11))+Ant.xs((1978, 5, 13)))/2\n",
    "Ant.loc[2004, 6, 3]=(Ant.xs((2004, 6, 1))+Ant.xs((2004, 6, 4)))/2\n",
    "Ant.loc[2006, 6, 2]=(Ant.xs((2006, 6, 1))+Ant.xs((2006, 6, 4)))/2\n",
    "Ant.loc[1978, 5, 12]=(Ant.xs((1978, 5, 11))+Ant.xs((1978, 5, 14)))/2\n",
    "Ant.loc[1978, 5, 13]=(Ant.xs((1978, 5, 11))+Ant.xs((1978, 5, 14)))/2\n",
    "Lie.loc[1954, 7, 29]=(Lie.xs((1954, 7, 28))+Lie.xs((1954, 7, 31)))/2\n",
    "Lie.loc[1954, 7, 30]=(Lie.xs((1954, 7, 28))+Lie.xs((1954, 7, 31)))/2\n",
    "Lie.loc[1976, 7, 25]=(Lie.xs((1976, 7, 24))+Lie.xs((1976, 7, 26)))/2\n",
    "Lie.loc[2004, 5, 26]=(Lie.xs((2004, 5, 25))+Lie.xs((2004, 5, 27)))/2\n",
    "Lie.loc[2004, 6, 3]=(Lie.xs((2004, 6, 2))+Lie.xs((2004, 6, 4)))/2\n",
    "Lie.loc[2004, 7, 30]=(Lie.xs((2004, 7, 29))+Lie.xs((2004, 7, 31)))/2\n",
    "Lie.loc[2004, 8, 9]=(Lie.xs((2004, 7, 29))+Lie.xs((2004, 7, 31)))/2"
   ]
  },
  {
   "cell_type": "code",
   "execution_count": 30,
   "id": "5f591cfb",
   "metadata": {},
   "outputs": [],
   "source": [
    "Bru_summer=Bru\n",
    "Ant_summer=Ant\n",
    "Lie_summer=Lie"
   ]
  },
  {
   "cell_type": "markdown",
   "id": "15b282da",
   "metadata": {},
   "source": [
    "# EHF computation"
   ]
  },
  {
   "cell_type": "code",
   "execution_count": 44,
   "id": "4ed33179",
   "metadata": {},
   "outputs": [],
   "source": [
    "T_95_Bru=scoreatpercentile(Brussels.set_index(['year', 'month', 'day']).groupby(level=[0, 1, 2])[['temp']].mean().values, 95)\n",
    "T_95_Ant=scoreatpercentile(Antwerp.set_index(['year', 'month', 'day']).groupby(level=[0, 1, 2])[['temp']].mean().values, 95)\n",
    "T_95_Lie=scoreatpercentile(Liege.set_index(['year', 'month', 'day']).groupby(level=[0, 1, 2])[['temp']].mean().values, 95)"
   ]
  },
  {
   "cell_type": "code",
   "execution_count": 45,
   "id": "759f2882",
   "metadata": {},
   "outputs": [],
   "source": [
    "Bru_summer['3d_forw'] = Bru_summer.groupby(level=0)['temp'].transform(lambda x: x.rolling(3, 3).mean()).shift(-2)\n",
    "Ant_summer['3d_forw'] = Ant_summer.groupby(level=0)['temp'].transform(lambda x: x.rolling(3, 3).mean()).shift(-2)\n",
    "Lie_summer['3d_forw'] = Lie_summer.groupby(level=0)['temp'].transform(lambda x: x.rolling(3, 3).mean()).shift(-2)"
   ]
  },
  {
   "cell_type": "code",
   "execution_count": 46,
   "id": "11633a85",
   "metadata": {},
   "outputs": [],
   "source": [
    "Bru_summer['30d_back'] = Bru_summer.groupby(level=0)['temp'].transform(lambda x: x.rolling(30, 30, closed='left').mean())\n",
    "Ant_summer['30d_back'] = Ant_summer.groupby(level=0)['temp'].transform(lambda x: x.rolling(30, 30, closed='left').mean())\n",
    "Lie_summer['30d_back'] = Lie_summer.groupby(level=0)['temp'].transform(lambda x: x.rolling(30, 30, closed='left').mean())"
   ]
  },
  {
   "cell_type": "code",
   "execution_count": null,
   "id": "ced5b893",
   "metadata": {},
   "outputs": [],
   "source": [
    "Bru_summer['EHI_'] = Bru_summer.groupby(level=0)['temp'].transform(lambda x: x.rolling(30, 30, closed='left').mean())\n",
    "Ant_summer['30d_back'] = Ant_summer.groupby(level=0)['temp'].transform(lambda x: x.rolling(30, 30).mean())\n",
    "Lie_summer['30d_back'] = Lie_summer.groupby(level=0)['temp'].transform(lambda x: x.rolling(30, 30).mean())"
   ]
  }
 ],
 "metadata": {
  "kernelspec": {
   "display_name": "Python 3 (ipykernel)",
   "language": "python",
   "name": "python3"
  },
  "language_info": {
   "codemirror_mode": {
    "name": "ipython",
    "version": 3
   },
   "file_extension": ".py",
   "mimetype": "text/x-python",
   "name": "python",
   "nbconvert_exporter": "python",
   "pygments_lexer": "ipython3",
   "version": "3.10.4"
  }
 },
 "nbformat": 4,
 "nbformat_minor": 5
}
