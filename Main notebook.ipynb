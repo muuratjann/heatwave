{
 "cells": [
  {
   "cell_type": "code",
   "execution_count": 1,
   "id": "fc5b10e3",
   "metadata": {},
   "outputs": [],
   "source": [
    "import numpy as np\n",
    "import pandas as pd\n",
    "from scipy.stats import iqr, scoreatpercentile\n",
    "import matplotlib.pyplot as plt\n",
    "import seaborn as sns\n",
    "sns.set_theme(style=\"darkgrid\")\n",
    "%matplotlib inline\n",
    "from sklearn.metrics import mean_absolute_error\n",
    "from sklearn.model_selection import GridSearchCV, KFold\n",
    "from sklearn.linear_model import LinearRegression, ElasticNet, Ridge,HuberRegressor, PoissonRegressor\n",
    "from sklearn.preprocessing import PolynomialFeatures, StandardScaler\n",
    "from sklearn.pipeline import Pipeline"
   ]
  },
  {
   "cell_type": "markdown",
   "id": "fa730435",
   "metadata": {},
   "source": [
    "# Introduction"
   ]
  },
  {
   "cell_type": "markdown",
   "id": "8cd8f5a2",
   "metadata": {},
   "source": [
    "**We know that heatwave is the extended period of time when extremely high temperatures are observed relative to the climate of the location. In many literatures the severity of the heatwave is represented by the Excess Heat Factor (EHF) [Nairn et al., 2015](https://pubmed.ncbi.nlm.nih.gov/25546282/) and mathematically it is defined to be:**"
   ]
  },
  {
   "cell_type": "markdown",
   "id": "ed4596d4",
   "metadata": {},
   "source": [
    "$$EHF=EHI_{sig}*max(1, EHI_{accl})$$ \n",
    "\n"
   ]
  },
  {
   "cell_type": "markdown",
   "id": "d5f896a2",
   "metadata": {},
   "source": [
    "where"
   ]
  },
  {
   "cell_type": "markdown",
   "id": "9b6795bd",
   "metadata": {},
   "source": [
    "$$EHI_{sig}=(T_i+T_{i+1}+T_{i+2})/3-T_{95}$$ \n",
    "$$EHI_{accl}=(T_i+T_{i+1}+T_{i+2})/3-(T_{i-1}+T_{i-2}+...+T_{i-30})/30$$ \n",
    "\n",
    "\n"
   ]
  },
  {
   "cell_type": "markdown",
   "id": "493d1d8d",
   "metadata": {},
   "source": [
    "**$T_{95}$ is calculated by taking the 95th percentile of the $T_i$s of all historical possible days in database. $T_i$ of the day is found as the mean of the temperatures recorded on the day. Of course the measurements must be equally spaced. Then if we find out that for $T_i$ the EHF is a positive number, then the three days $T_i, T_{\n",
    "i+1}, T_{i+2}$ are considered heatwave days.** "
   ]
  },
  {
   "cell_type": "markdown",
   "id": "e71402f4",
   "metadata": {},
   "source": [
    "**Then, the heatwave is considered severe if EHF>=EHF$_{85}$ where EHF$_{85}$ is 85th percentile of the positive EHFs throughout the years recorded in our table.**"
   ]
  },
  {
   "cell_type": "markdown",
   "id": "eca131fa",
   "metadata": {},
   "source": [
    "# Data collection"
   ]
  },
  {
   "cell_type": "markdown",
   "id": "92152c1e",
   "metadata": {},
   "source": [
    "**Using [Opendata meteo.be](https://opendata.meteo.be) the following temperature data was collected in csv format:**\n"
   ]
  },
  {
   "cell_type": "markdown",
   "id": "af8544f8",
   "metadata": {},
   "source": [
    "*Cities: Brussels, Antwerp, Liege*"
   ]
  },
  {
   "cell_type": "markdown",
   "id": "80dc5350",
   "metadata": {},
   "source": [
    "*Period: 1952-2021* "
   ]
  },
  {
   "cell_type": "markdown",
   "id": "19f9479d",
   "metadata": {},
   "source": [
    "*Frequency: Depending on year and location: hourly, every 3h, every 6h, etc.*"
   ]
  },
  {
   "cell_type": "markdown",
   "id": "71703e72",
   "metadata": {},
   "source": [
    "# Data cleaning and transformation"
   ]
  },
  {
   "cell_type": "code",
   "execution_count": 2,
   "id": "39e3987a",
   "metadata": {},
   "outputs": [],
   "source": [
    "Brussels=pd.read_csv(\"./data/Brussels.csv\")\n",
    "Antwerp=pd.read_csv(\"./data/Antwerp.csv\")\n",
    "Liege=pd.read_csv(\"./data/Liege.csv\")"
   ]
  },
  {
   "cell_type": "code",
   "execution_count": 3,
   "id": "0b8b1273",
   "metadata": {},
   "outputs": [
    {
     "data": {
      "text/html": [
       "<div>\n",
       "<style scoped>\n",
       "    .dataframe tbody tr th:only-of-type {\n",
       "        vertical-align: middle;\n",
       "    }\n",
       "\n",
       "    .dataframe tbody tr th {\n",
       "        vertical-align: top;\n",
       "    }\n",
       "\n",
       "    .dataframe thead th {\n",
       "        text-align: right;\n",
       "    }\n",
       "</style>\n",
       "<table border=\"1\" class=\"dataframe\">\n",
       "  <thead>\n",
       "    <tr style=\"text-align: right;\">\n",
       "      <th></th>\n",
       "      <th>FID</th>\n",
       "      <th>the_geom</th>\n",
       "      <th>code</th>\n",
       "      <th>timestamp</th>\n",
       "      <th>precip_quantity</th>\n",
       "      <th>precip_range</th>\n",
       "      <th>temp</th>\n",
       "      <th>temp_min</th>\n",
       "      <th>temp_max</th>\n",
       "      <th>temp_grass_min</th>\n",
       "      <th>...</th>\n",
       "      <th>wind_speed_unit</th>\n",
       "      <th>wind_direction</th>\n",
       "      <th>wind_peak_speed</th>\n",
       "      <th>humidity_relative</th>\n",
       "      <th>weather_current</th>\n",
       "      <th>pressure</th>\n",
       "      <th>pressure_station_level</th>\n",
       "      <th>sun_duration_24hours</th>\n",
       "      <th>short_wave_from_sky_24hours</th>\n",
       "      <th>cloudiness</th>\n",
       "    </tr>\n",
       "  </thead>\n",
       "  <tbody>\n",
       "    <tr>\n",
       "      <th>0</th>\n",
       "      <td>synop_data.6451.1952-01-01 00:00:00+00</td>\n",
       "      <td>POINT (50.896391 4.526765)</td>\n",
       "      <td>6451</td>\n",
       "      <td>1952-01-01T00:00:00</td>\n",
       "      <td>NaN</td>\n",
       "      <td>NaN</td>\n",
       "      <td>3.0</td>\n",
       "      <td>NaN</td>\n",
       "      <td>NaN</td>\n",
       "      <td>NaN</td>\n",
       "      <td>...</td>\n",
       "      <td>NaN</td>\n",
       "      <td>90.0</td>\n",
       "      <td>NaN</td>\n",
       "      <td>NaN</td>\n",
       "      <td>61.0</td>\n",
       "      <td>1005.5</td>\n",
       "      <td>NaN</td>\n",
       "      <td>NaN</td>\n",
       "      <td>NaN</td>\n",
       "      <td>8.0</td>\n",
       "    </tr>\n",
       "    <tr>\n",
       "      <th>1</th>\n",
       "      <td>synop_data.6451.1952-01-01 03:00:00+00</td>\n",
       "      <td>POINT (50.896391 4.526765)</td>\n",
       "      <td>6451</td>\n",
       "      <td>1952-01-01T03:00:00</td>\n",
       "      <td>NaN</td>\n",
       "      <td>NaN</td>\n",
       "      <td>3.0</td>\n",
       "      <td>NaN</td>\n",
       "      <td>NaN</td>\n",
       "      <td>NaN</td>\n",
       "      <td>...</td>\n",
       "      <td>NaN</td>\n",
       "      <td>NaN</td>\n",
       "      <td>NaN</td>\n",
       "      <td>NaN</td>\n",
       "      <td>50.0</td>\n",
       "      <td>1003.1</td>\n",
       "      <td>NaN</td>\n",
       "      <td>NaN</td>\n",
       "      <td>NaN</td>\n",
       "      <td>8.0</td>\n",
       "    </tr>\n",
       "    <tr>\n",
       "      <th>2</th>\n",
       "      <td>synop_data.6451.1952-01-01 06:00:00+00</td>\n",
       "      <td>POINT (50.896391 4.526765)</td>\n",
       "      <td>6451</td>\n",
       "      <td>1952-01-01T06:00:00</td>\n",
       "      <td>2.0</td>\n",
       "      <td>2.0</td>\n",
       "      <td>3.0</td>\n",
       "      <td>3.0</td>\n",
       "      <td>NaN</td>\n",
       "      <td>NaN</td>\n",
       "      <td>...</td>\n",
       "      <td>NaN</td>\n",
       "      <td>250.0</td>\n",
       "      <td>NaN</td>\n",
       "      <td>NaN</td>\n",
       "      <td>51.0</td>\n",
       "      <td>1004.0</td>\n",
       "      <td>NaN</td>\n",
       "      <td>NaN</td>\n",
       "      <td>NaN</td>\n",
       "      <td>8.0</td>\n",
       "    </tr>\n",
       "    <tr>\n",
       "      <th>3</th>\n",
       "      <td>synop_data.6451.1952-01-01 09:00:00+00</td>\n",
       "      <td>POINT (50.896391 4.526765)</td>\n",
       "      <td>6451</td>\n",
       "      <td>1952-01-01T09:00:00</td>\n",
       "      <td>NaN</td>\n",
       "      <td>NaN</td>\n",
       "      <td>3.0</td>\n",
       "      <td>NaN</td>\n",
       "      <td>NaN</td>\n",
       "      <td>NaN</td>\n",
       "      <td>...</td>\n",
       "      <td>NaN</td>\n",
       "      <td>270.0</td>\n",
       "      <td>NaN</td>\n",
       "      <td>NaN</td>\n",
       "      <td>21.0</td>\n",
       "      <td>1006.9</td>\n",
       "      <td>NaN</td>\n",
       "      <td>NaN</td>\n",
       "      <td>NaN</td>\n",
       "      <td>5.0</td>\n",
       "    </tr>\n",
       "    <tr>\n",
       "      <th>4</th>\n",
       "      <td>synop_data.6451.1952-01-01 12:00:00+00</td>\n",
       "      <td>POINT (50.896391 4.526765)</td>\n",
       "      <td>6451</td>\n",
       "      <td>1952-01-01T12:00:00</td>\n",
       "      <td>NaN</td>\n",
       "      <td>NaN</td>\n",
       "      <td>4.0</td>\n",
       "      <td>NaN</td>\n",
       "      <td>NaN</td>\n",
       "      <td>NaN</td>\n",
       "      <td>...</td>\n",
       "      <td>NaN</td>\n",
       "      <td>260.0</td>\n",
       "      <td>NaN</td>\n",
       "      <td>NaN</td>\n",
       "      <td>25.0</td>\n",
       "      <td>1009.2</td>\n",
       "      <td>NaN</td>\n",
       "      <td>NaN</td>\n",
       "      <td>NaN</td>\n",
       "      <td>6.0</td>\n",
       "    </tr>\n",
       "  </tbody>\n",
       "</table>\n",
       "<p>5 rows × 21 columns</p>\n",
       "</div>"
      ],
      "text/plain": [
       "                                      FID                    the_geom  code  \\\n",
       "0  synop_data.6451.1952-01-01 00:00:00+00  POINT (50.896391 4.526765)  6451   \n",
       "1  synop_data.6451.1952-01-01 03:00:00+00  POINT (50.896391 4.526765)  6451   \n",
       "2  synop_data.6451.1952-01-01 06:00:00+00  POINT (50.896391 4.526765)  6451   \n",
       "3  synop_data.6451.1952-01-01 09:00:00+00  POINT (50.896391 4.526765)  6451   \n",
       "4  synop_data.6451.1952-01-01 12:00:00+00  POINT (50.896391 4.526765)  6451   \n",
       "\n",
       "             timestamp  precip_quantity  precip_range  temp  temp_min  \\\n",
       "0  1952-01-01T00:00:00              NaN           NaN   3.0       NaN   \n",
       "1  1952-01-01T03:00:00              NaN           NaN   3.0       NaN   \n",
       "2  1952-01-01T06:00:00              2.0           2.0   3.0       3.0   \n",
       "3  1952-01-01T09:00:00              NaN           NaN   3.0       NaN   \n",
       "4  1952-01-01T12:00:00              NaN           NaN   4.0       NaN   \n",
       "\n",
       "   temp_max  temp_grass_min  ...  wind_speed_unit  wind_direction  \\\n",
       "0       NaN             NaN  ...              NaN            90.0   \n",
       "1       NaN             NaN  ...              NaN             NaN   \n",
       "2       NaN             NaN  ...              NaN           250.0   \n",
       "3       NaN             NaN  ...              NaN           270.0   \n",
       "4       NaN             NaN  ...              NaN           260.0   \n",
       "\n",
       "   wind_peak_speed  humidity_relative  weather_current  pressure  \\\n",
       "0              NaN                NaN             61.0    1005.5   \n",
       "1              NaN                NaN             50.0    1003.1   \n",
       "2              NaN                NaN             51.0    1004.0   \n",
       "3              NaN                NaN             21.0    1006.9   \n",
       "4              NaN                NaN             25.0    1009.2   \n",
       "\n",
       "   pressure_station_level  sun_duration_24hours  short_wave_from_sky_24hours  \\\n",
       "0                     NaN                   NaN                          NaN   \n",
       "1                     NaN                   NaN                          NaN   \n",
       "2                     NaN                   NaN                          NaN   \n",
       "3                     NaN                   NaN                          NaN   \n",
       "4                     NaN                   NaN                          NaN   \n",
       "\n",
       "   cloudiness  \n",
       "0         8.0  \n",
       "1         8.0  \n",
       "2         8.0  \n",
       "3         5.0  \n",
       "4         6.0  \n",
       "\n",
       "[5 rows x 21 columns]"
      ]
     },
     "execution_count": 3,
     "metadata": {},
     "output_type": "execute_result"
    }
   ],
   "source": [
    "Brussels.head()"
   ]
  },
  {
   "cell_type": "markdown",
   "id": "1e92aefa",
   "metadata": {},
   "source": [
    "**As we are using only the information on temperature we need to keep only the timestamp and the temperature**"
   ]
  },
  {
   "cell_type": "code",
   "execution_count": 4,
   "id": "3560cb6d",
   "metadata": {},
   "outputs": [],
   "source": [
    "Brussels=Brussels[[\"timestamp\", \"temp\"]]\n",
    "Antwerp=Antwerp[[\"timestamp\", \"temp\"]]\n",
    "Liege=Liege[[\"timestamp\", \"temp\"]]"
   ]
  },
  {
   "cell_type": "code",
   "execution_count": 5,
   "id": "347f6fdd",
   "metadata": {},
   "outputs": [
    {
     "data": {
      "text/html": [
       "<div>\n",
       "<style scoped>\n",
       "    .dataframe tbody tr th:only-of-type {\n",
       "        vertical-align: middle;\n",
       "    }\n",
       "\n",
       "    .dataframe tbody tr th {\n",
       "        vertical-align: top;\n",
       "    }\n",
       "\n",
       "    .dataframe thead th {\n",
       "        text-align: right;\n",
       "    }\n",
       "</style>\n",
       "<table border=\"1\" class=\"dataframe\">\n",
       "  <thead>\n",
       "    <tr style=\"text-align: right;\">\n",
       "      <th></th>\n",
       "      <th>timestamp</th>\n",
       "      <th>temp</th>\n",
       "    </tr>\n",
       "  </thead>\n",
       "  <tbody>\n",
       "    <tr>\n",
       "      <th>0</th>\n",
       "      <td>1952-01-01T00:00:00</td>\n",
       "      <td>3.0</td>\n",
       "    </tr>\n",
       "    <tr>\n",
       "      <th>1</th>\n",
       "      <td>1952-01-01T03:00:00</td>\n",
       "      <td>3.0</td>\n",
       "    </tr>\n",
       "    <tr>\n",
       "      <th>2</th>\n",
       "      <td>1952-01-01T06:00:00</td>\n",
       "      <td>3.0</td>\n",
       "    </tr>\n",
       "    <tr>\n",
       "      <th>3</th>\n",
       "      <td>1952-01-01T09:00:00</td>\n",
       "      <td>3.0</td>\n",
       "    </tr>\n",
       "    <tr>\n",
       "      <th>4</th>\n",
       "      <td>1952-01-01T12:00:00</td>\n",
       "      <td>4.0</td>\n",
       "    </tr>\n",
       "  </tbody>\n",
       "</table>\n",
       "</div>"
      ],
      "text/plain": [
       "             timestamp  temp\n",
       "0  1952-01-01T00:00:00   3.0\n",
       "1  1952-01-01T03:00:00   3.0\n",
       "2  1952-01-01T06:00:00   3.0\n",
       "3  1952-01-01T09:00:00   3.0\n",
       "4  1952-01-01T12:00:00   4.0"
      ]
     },
     "execution_count": 5,
     "metadata": {},
     "output_type": "execute_result"
    }
   ],
   "source": [
    "Brussels.head()"
   ]
  },
  {
   "cell_type": "code",
   "execution_count": 6,
   "id": "d85d3f11",
   "metadata": {},
   "outputs": [],
   "source": [
    "cities=[Brussels, Antwerp, Liege]\n",
    "for city in cities:\n",
    "    city['timestamp_formatted']=pd.to_datetime(city['timestamp'])"
   ]
  },
  {
   "cell_type": "code",
   "execution_count": 7,
   "id": "82f1b6fb",
   "metadata": {},
   "outputs": [
    {
     "data": {
      "text/html": [
       "<div>\n",
       "<style scoped>\n",
       "    .dataframe tbody tr th:only-of-type {\n",
       "        vertical-align: middle;\n",
       "    }\n",
       "\n",
       "    .dataframe tbody tr th {\n",
       "        vertical-align: top;\n",
       "    }\n",
       "\n",
       "    .dataframe thead th {\n",
       "        text-align: right;\n",
       "    }\n",
       "</style>\n",
       "<table border=\"1\" class=\"dataframe\">\n",
       "  <thead>\n",
       "    <tr style=\"text-align: right;\">\n",
       "      <th></th>\n",
       "      <th>timestamp</th>\n",
       "      <th>temp</th>\n",
       "      <th>timestamp_formatted</th>\n",
       "    </tr>\n",
       "  </thead>\n",
       "  <tbody>\n",
       "    <tr>\n",
       "      <th>0</th>\n",
       "      <td>1952-01-01T00:00:00</td>\n",
       "      <td>3.0</td>\n",
       "      <td>1952-01-01 00:00:00</td>\n",
       "    </tr>\n",
       "    <tr>\n",
       "      <th>1</th>\n",
       "      <td>1952-01-01T03:00:00</td>\n",
       "      <td>3.0</td>\n",
       "      <td>1952-01-01 03:00:00</td>\n",
       "    </tr>\n",
       "    <tr>\n",
       "      <th>2</th>\n",
       "      <td>1952-01-01T06:00:00</td>\n",
       "      <td>3.0</td>\n",
       "      <td>1952-01-01 06:00:00</td>\n",
       "    </tr>\n",
       "    <tr>\n",
       "      <th>3</th>\n",
       "      <td>1952-01-01T09:00:00</td>\n",
       "      <td>3.0</td>\n",
       "      <td>1952-01-01 09:00:00</td>\n",
       "    </tr>\n",
       "    <tr>\n",
       "      <th>4</th>\n",
       "      <td>1952-01-01T12:00:00</td>\n",
       "      <td>4.0</td>\n",
       "      <td>1952-01-01 12:00:00</td>\n",
       "    </tr>\n",
       "  </tbody>\n",
       "</table>\n",
       "</div>"
      ],
      "text/plain": [
       "             timestamp  temp timestamp_formatted\n",
       "0  1952-01-01T00:00:00   3.0 1952-01-01 00:00:00\n",
       "1  1952-01-01T03:00:00   3.0 1952-01-01 03:00:00\n",
       "2  1952-01-01T06:00:00   3.0 1952-01-01 06:00:00\n",
       "3  1952-01-01T09:00:00   3.0 1952-01-01 09:00:00\n",
       "4  1952-01-01T12:00:00   4.0 1952-01-01 12:00:00"
      ]
     },
     "execution_count": 7,
     "metadata": {},
     "output_type": "execute_result"
    }
   ],
   "source": [
    "Brussels.head()"
   ]
  },
  {
   "cell_type": "code",
   "execution_count": 8,
   "id": "b7b02877",
   "metadata": {},
   "outputs": [
    {
     "name": "stdout",
     "output_type": "stream",
     "text": [
      "<class 'pandas.core.frame.DataFrame'>\n",
      "RangeIndex: 420595 entries, 0 to 420594\n",
      "Data columns (total 3 columns):\n",
      " #   Column               Non-Null Count   Dtype         \n",
      "---  ------               --------------   -----         \n",
      " 0   timestamp            420595 non-null  object        \n",
      " 1   temp                 420261 non-null  float64       \n",
      " 2   timestamp_formatted  420595 non-null  datetime64[ns]\n",
      "dtypes: datetime64[ns](1), float64(1), object(1)\n",
      "memory usage: 9.6+ MB\n"
     ]
    }
   ],
   "source": [
    "Brussels.info()"
   ]
  },
  {
   "cell_type": "code",
   "execution_count": 9,
   "id": "5170090e",
   "metadata": {},
   "outputs": [],
   "source": [
    "for city in cities:\n",
    "    city['year']=city['timestamp_formatted'].dt.year\n",
    "    city['month']=city['timestamp_formatted'].dt.month\n",
    "    city['day']=city['timestamp_formatted'].dt.day\n",
    "    city['hour']=city['timestamp_formatted'].dt.hour\n",
    "    city.drop(labels=['timestamp','timestamp_formatted'], axis=1, inplace=True)"
   ]
  },
  {
   "cell_type": "code",
   "execution_count": 10,
   "id": "342e40b7",
   "metadata": {},
   "outputs": [
    {
     "data": {
      "text/html": [
       "<div>\n",
       "<style scoped>\n",
       "    .dataframe tbody tr th:only-of-type {\n",
       "        vertical-align: middle;\n",
       "    }\n",
       "\n",
       "    .dataframe tbody tr th {\n",
       "        vertical-align: top;\n",
       "    }\n",
       "\n",
       "    .dataframe thead th {\n",
       "        text-align: right;\n",
       "    }\n",
       "</style>\n",
       "<table border=\"1\" class=\"dataframe\">\n",
       "  <thead>\n",
       "    <tr style=\"text-align: right;\">\n",
       "      <th></th>\n",
       "      <th>temp</th>\n",
       "      <th>year</th>\n",
       "      <th>month</th>\n",
       "      <th>day</th>\n",
       "      <th>hour</th>\n",
       "    </tr>\n",
       "  </thead>\n",
       "  <tbody>\n",
       "    <tr>\n",
       "      <th>0</th>\n",
       "      <td>3.0</td>\n",
       "      <td>1952</td>\n",
       "      <td>1</td>\n",
       "      <td>1</td>\n",
       "      <td>0</td>\n",
       "    </tr>\n",
       "    <tr>\n",
       "      <th>1</th>\n",
       "      <td>3.0</td>\n",
       "      <td>1952</td>\n",
       "      <td>1</td>\n",
       "      <td>1</td>\n",
       "      <td>3</td>\n",
       "    </tr>\n",
       "    <tr>\n",
       "      <th>2</th>\n",
       "      <td>3.0</td>\n",
       "      <td>1952</td>\n",
       "      <td>1</td>\n",
       "      <td>1</td>\n",
       "      <td>6</td>\n",
       "    </tr>\n",
       "    <tr>\n",
       "      <th>3</th>\n",
       "      <td>3.0</td>\n",
       "      <td>1952</td>\n",
       "      <td>1</td>\n",
       "      <td>1</td>\n",
       "      <td>9</td>\n",
       "    </tr>\n",
       "    <tr>\n",
       "      <th>4</th>\n",
       "      <td>4.0</td>\n",
       "      <td>1952</td>\n",
       "      <td>1</td>\n",
       "      <td>1</td>\n",
       "      <td>12</td>\n",
       "    </tr>\n",
       "    <tr>\n",
       "      <th>5</th>\n",
       "      <td>5.0</td>\n",
       "      <td>1952</td>\n",
       "      <td>1</td>\n",
       "      <td>1</td>\n",
       "      <td>15</td>\n",
       "    </tr>\n",
       "    <tr>\n",
       "      <th>6</th>\n",
       "      <td>3.0</td>\n",
       "      <td>1952</td>\n",
       "      <td>1</td>\n",
       "      <td>1</td>\n",
       "      <td>18</td>\n",
       "    </tr>\n",
       "    <tr>\n",
       "      <th>7</th>\n",
       "      <td>2.0</td>\n",
       "      <td>1952</td>\n",
       "      <td>1</td>\n",
       "      <td>1</td>\n",
       "      <td>21</td>\n",
       "    </tr>\n",
       "    <tr>\n",
       "      <th>8</th>\n",
       "      <td>3.0</td>\n",
       "      <td>1952</td>\n",
       "      <td>1</td>\n",
       "      <td>2</td>\n",
       "      <td>0</td>\n",
       "    </tr>\n",
       "    <tr>\n",
       "      <th>9</th>\n",
       "      <td>3.0</td>\n",
       "      <td>1952</td>\n",
       "      <td>1</td>\n",
       "      <td>2</td>\n",
       "      <td>3</td>\n",
       "    </tr>\n",
       "  </tbody>\n",
       "</table>\n",
       "</div>"
      ],
      "text/plain": [
       "   temp  year  month  day  hour\n",
       "0   3.0  1952      1    1     0\n",
       "1   3.0  1952      1    1     3\n",
       "2   3.0  1952      1    1     6\n",
       "3   3.0  1952      1    1     9\n",
       "4   4.0  1952      1    1    12\n",
       "5   5.0  1952      1    1    15\n",
       "6   3.0  1952      1    1    18\n",
       "7   2.0  1952      1    1    21\n",
       "8   3.0  1952      1    2     0\n",
       "9   3.0  1952      1    2     3"
      ]
     },
     "execution_count": 10,
     "metadata": {},
     "output_type": "execute_result"
    }
   ],
   "source": [
    "Brussels.head(10)"
   ]
  },
  {
   "cell_type": "code",
   "execution_count": 11,
   "id": "8d540e23",
   "metadata": {},
   "outputs": [],
   "source": [
    "Bru_summer=Brussels[Brussels['month'].isin([5,6,7,8])]"
   ]
  },
  {
   "cell_type": "code",
   "execution_count": 12,
   "id": "f7a2562f",
   "metadata": {},
   "outputs": [],
   "source": [
    "Ant_summer=Antwerp[Antwerp['month'].isin([5,6,7,8])]"
   ]
  },
  {
   "cell_type": "code",
   "execution_count": 13,
   "id": "ef6f9b0c",
   "metadata": {},
   "outputs": [],
   "source": [
    "Lie_summer=Liege[Liege['month'].isin([5,6,7,8])]"
   ]
  },
  {
   "cell_type": "markdown",
   "id": "162146c4",
   "metadata": {},
   "source": [
    "**Problems might arise with calculating the mean teperature of the day correctly**\n",
    "1. Not enough observations \n",
    "2. Observations are not regularly spaced"
   ]
  },
  {
   "cell_type": "markdown",
   "id": "1043f891",
   "metadata": {},
   "source": [
    "# 1"
   ]
  },
  {
   "cell_type": "markdown",
   "id": "d0fd6b20",
   "metadata": {},
   "source": [
    "**Here we find the days where the number of observations was less than 4**"
   ]
  },
  {
   "cell_type": "code",
   "execution_count": 14,
   "id": "858332f6",
   "metadata": {},
   "outputs": [],
   "source": [
    "pd.set_option('display.max_rows', 300)"
   ]
  },
  {
   "cell_type": "code",
   "execution_count": 15,
   "id": "b6d1fa39",
   "metadata": {},
   "outputs": [
    {
     "data": {
      "text/html": [
       "<div>\n",
       "<style scoped>\n",
       "    .dataframe tbody tr th:only-of-type {\n",
       "        vertical-align: middle;\n",
       "    }\n",
       "\n",
       "    .dataframe tbody tr th {\n",
       "        vertical-align: top;\n",
       "    }\n",
       "\n",
       "    .dataframe thead th {\n",
       "        text-align: right;\n",
       "    }\n",
       "</style>\n",
       "<table border=\"1\" class=\"dataframe\">\n",
       "  <thead>\n",
       "    <tr style=\"text-align: right;\">\n",
       "      <th></th>\n",
       "      <th></th>\n",
       "      <th></th>\n",
       "      <th>temp</th>\n",
       "    </tr>\n",
       "    <tr>\n",
       "      <th>year</th>\n",
       "      <th>month</th>\n",
       "      <th>day</th>\n",
       "      <th></th>\n",
       "    </tr>\n",
       "  </thead>\n",
       "  <tbody>\n",
       "    <tr>\n",
       "      <th>1960</th>\n",
       "      <th>5</th>\n",
       "      <th>25</th>\n",
       "      <td>0</td>\n",
       "    </tr>\n",
       "  </tbody>\n",
       "</table>\n",
       "</div>"
      ],
      "text/plain": [
       "                temp\n",
       "year month day      \n",
       "1960 5     25      0"
      ]
     },
     "execution_count": 15,
     "metadata": {},
     "output_type": "execute_result"
    }
   ],
   "source": [
    "Bru_count=Bru_summer.set_index(['year', 'month', 'day']).groupby(level=[0, 1, 2]).count()[['temp']]\n",
    "Bru_count[Bru_count['temp']<4]"
   ]
  },
  {
   "cell_type": "code",
   "execution_count": 16,
   "id": "d1d74ee1",
   "metadata": {},
   "outputs": [
    {
     "data": {
      "text/html": [
       "<div>\n",
       "<style scoped>\n",
       "    .dataframe tbody tr th:only-of-type {\n",
       "        vertical-align: middle;\n",
       "    }\n",
       "\n",
       "    .dataframe tbody tr th {\n",
       "        vertical-align: top;\n",
       "    }\n",
       "\n",
       "    .dataframe thead th {\n",
       "        text-align: right;\n",
       "    }\n",
       "</style>\n",
       "<table border=\"1\" class=\"dataframe\">\n",
       "  <thead>\n",
       "    <tr style=\"text-align: right;\">\n",
       "      <th></th>\n",
       "      <th></th>\n",
       "      <th></th>\n",
       "      <th>temp</th>\n",
       "    </tr>\n",
       "    <tr>\n",
       "      <th>year</th>\n",
       "      <th>month</th>\n",
       "      <th>day</th>\n",
       "      <th></th>\n",
       "    </tr>\n",
       "  </thead>\n",
       "  <tbody>\n",
       "    <tr>\n",
       "      <th>1964</th>\n",
       "      <th>8</th>\n",
       "      <th>18</th>\n",
       "      <td>0</td>\n",
       "    </tr>\n",
       "    <tr>\n",
       "      <th>1978</th>\n",
       "      <th>5</th>\n",
       "      <th>12</th>\n",
       "      <td>2</td>\n",
       "    </tr>\n",
       "  </tbody>\n",
       "</table>\n",
       "</div>"
      ],
      "text/plain": [
       "                temp\n",
       "year month day      \n",
       "1964 8     18      0\n",
       "1978 5     12      2"
      ]
     },
     "execution_count": 16,
     "metadata": {},
     "output_type": "execute_result"
    }
   ],
   "source": [
    "Ant_count=Ant_summer.set_index(['year', 'month', 'day']).groupby(level=[0, 1, 2]).count()[['temp']]\n",
    "Ant_count[Ant_count['temp']<4]"
   ]
  },
  {
   "cell_type": "code",
   "execution_count": 17,
   "id": "9cd2740c",
   "metadata": {},
   "outputs": [
    {
     "data": {
      "text/html": [
       "<div>\n",
       "<style scoped>\n",
       "    .dataframe tbody tr th:only-of-type {\n",
       "        vertical-align: middle;\n",
       "    }\n",
       "\n",
       "    .dataframe tbody tr th {\n",
       "        vertical-align: top;\n",
       "    }\n",
       "\n",
       "    .dataframe thead th {\n",
       "        text-align: right;\n",
       "    }\n",
       "</style>\n",
       "<table border=\"1\" class=\"dataframe\">\n",
       "  <thead>\n",
       "    <tr style=\"text-align: right;\">\n",
       "      <th></th>\n",
       "      <th></th>\n",
       "      <th></th>\n",
       "      <th>temp</th>\n",
       "    </tr>\n",
       "    <tr>\n",
       "      <th>year</th>\n",
       "      <th>month</th>\n",
       "      <th>day</th>\n",
       "      <th></th>\n",
       "    </tr>\n",
       "  </thead>\n",
       "  <tbody>\n",
       "    <tr>\n",
       "      <th rowspan=\"2\" valign=\"top\">1954</th>\n",
       "      <th rowspan=\"2\" valign=\"top\">7</th>\n",
       "      <th>29</th>\n",
       "      <td>2</td>\n",
       "    </tr>\n",
       "    <tr>\n",
       "      <th>30</th>\n",
       "      <td>2</td>\n",
       "    </tr>\n",
       "    <tr>\n",
       "      <th>1976</th>\n",
       "      <th>7</th>\n",
       "      <th>25</th>\n",
       "      <td>1</td>\n",
       "    </tr>\n",
       "  </tbody>\n",
       "</table>\n",
       "</div>"
      ],
      "text/plain": [
       "                temp\n",
       "year month day      \n",
       "1954 7     29      2\n",
       "           30      2\n",
       "1976 7     25      1"
      ]
     },
     "execution_count": 17,
     "metadata": {},
     "output_type": "execute_result"
    }
   ],
   "source": [
    "Lie_count=Lie_summer.set_index(['year', 'month', 'day']).groupby(level=[0, 1, 2]).count()[['temp']]\n",
    "Lie_count[Lie_count['temp']<4]"
   ]
  },
  {
   "cell_type": "markdown",
   "id": "4d5f5963",
   "metadata": {},
   "source": [
    "**Thus, we see that for Brussels there is only one day where we have no observation at all. For Antwerp, there are two days for which the number of observations is less than 4. For Liege, that number is only 3.**"
   ]
  },
  {
   "cell_type": "markdown",
   "id": "09d0f4a8",
   "metadata": {},
   "source": [
    "# 2"
   ]
  },
  {
   "cell_type": "markdown",
   "id": "88390e0d",
   "metadata": {},
   "source": [
    "**Here we check if the observations are regularly spaced (at least close to)**"
   ]
  },
  {
   "cell_type": "code",
   "execution_count": 18,
   "id": "ae11cc91",
   "metadata": {},
   "outputs": [],
   "source": [
    "Bru_summer=Bru_summer.reset_index().drop(columns=[\"index\"])\n",
    "Ant_summer=Ant_summer.reset_index().drop(columns=[\"index\"])\n",
    "Lie_summer=Lie_summer.reset_index().drop(columns=[\"index\"])"
   ]
  },
  {
   "cell_type": "code",
   "execution_count": 19,
   "id": "94ae1db9",
   "metadata": {},
   "outputs": [],
   "source": [
    "Bru_summer['hour_unif']=Bru_summer['hour'].apply(lambda x: x/24)\n",
    "Ant_summer['hour_unif']=Ant_summer['hour'].apply(lambda x: x/24)\n",
    "Lie_summer['hour_unif']=Lie_summer['hour'].apply(lambda x: x/24)"
   ]
  },
  {
   "cell_type": "code",
   "execution_count": 20,
   "id": "46d931cd",
   "metadata": {},
   "outputs": [],
   "source": [
    "pd.set_option('max_colwidth', None)"
   ]
  },
  {
   "cell_type": "code",
   "execution_count": 21,
   "id": "45a9d9cd",
   "metadata": {},
   "outputs": [],
   "source": [
    "Bru_spread=Bru_summer.set_index(['year', 'month', 'day']).groupby(level=[0, 1, 2])[['hour_unif']].agg(iqr)\n",
    "Bru_spread['measurements']=Bru_summer.set_index(['year', 'month', 'day']).groupby(level=[0, 1, 2])['hour'].apply(list)\n",
    "Bru_spread.rename(columns={'hour_unif':'iqr'}, inplace=True)"
   ]
  },
  {
   "cell_type": "code",
   "execution_count": 22,
   "id": "b4c547ec",
   "metadata": {},
   "outputs": [
    {
     "data": {
      "text/html": [
       "<div>\n",
       "<style scoped>\n",
       "    .dataframe tbody tr th:only-of-type {\n",
       "        vertical-align: middle;\n",
       "    }\n",
       "\n",
       "    .dataframe tbody tr th {\n",
       "        vertical-align: top;\n",
       "    }\n",
       "\n",
       "    .dataframe thead th {\n",
       "        text-align: right;\n",
       "    }\n",
       "</style>\n",
       "<table border=\"1\" class=\"dataframe\">\n",
       "  <thead>\n",
       "    <tr style=\"text-align: right;\">\n",
       "      <th></th>\n",
       "      <th></th>\n",
       "      <th></th>\n",
       "      <th>iqr</th>\n",
       "      <th>measurements</th>\n",
       "    </tr>\n",
       "    <tr>\n",
       "      <th>year</th>\n",
       "      <th>month</th>\n",
       "      <th>day</th>\n",
       "      <th></th>\n",
       "      <th></th>\n",
       "    </tr>\n",
       "  </thead>\n",
       "  <tbody>\n",
       "    <tr>\n",
       "      <th>2004</th>\n",
       "      <th>6</th>\n",
       "      <th>3</th>\n",
       "      <td>0.25</td>\n",
       "      <td>[0, 4, 5, 6, 7, 8, 9, 10, 11, 12, 21, 22, 23]</td>\n",
       "    </tr>\n",
       "  </tbody>\n",
       "</table>\n",
       "</div>"
      ],
      "text/plain": [
       "                 iqr                                   measurements\n",
       "year month day                                                     \n",
       "2004 6     3    0.25  [0, 4, 5, 6, 7, 8, 9, 10, 11, 12, 21, 22, 23]"
      ]
     },
     "execution_count": 22,
     "metadata": {},
     "output_type": "execute_result"
    }
   ],
   "source": [
    "Bru_spread[np.logical_or(Bru_spread['iqr']>0.6, Bru_spread['iqr']<0.4)]"
   ]
  },
  {
   "cell_type": "code",
   "execution_count": 23,
   "id": "f23f924f",
   "metadata": {},
   "outputs": [],
   "source": [
    "Ant_spread=Ant_summer.set_index(['year', 'month', 'day']).groupby(level=[0, 1, 2])[['hour_unif']].agg(iqr)\n",
    "Ant_spread['measurements']=Ant_summer.set_index(['year', 'month', 'day']).groupby(level=[0, 1, 2])['hour'].apply(list)\n",
    "Ant_spread.rename(columns={'hour_unif':'iqr'}, inplace=True)"
   ]
  },
  {
   "cell_type": "code",
   "execution_count": 24,
   "id": "54d00fcf",
   "metadata": {},
   "outputs": [
    {
     "data": {
      "text/html": [
       "<div>\n",
       "<style scoped>\n",
       "    .dataframe tbody tr th:only-of-type {\n",
       "        vertical-align: middle;\n",
       "    }\n",
       "\n",
       "    .dataframe tbody tr th {\n",
       "        vertical-align: top;\n",
       "    }\n",
       "\n",
       "    .dataframe thead th {\n",
       "        text-align: right;\n",
       "    }\n",
       "</style>\n",
       "<table border=\"1\" class=\"dataframe\">\n",
       "  <thead>\n",
       "    <tr style=\"text-align: right;\">\n",
       "      <th></th>\n",
       "      <th></th>\n",
       "      <th></th>\n",
       "      <th>iqr</th>\n",
       "      <th>measurements</th>\n",
       "    </tr>\n",
       "    <tr>\n",
       "      <th>year</th>\n",
       "      <th>month</th>\n",
       "      <th>day</th>\n",
       "      <th></th>\n",
       "      <th></th>\n",
       "    </tr>\n",
       "  </thead>\n",
       "  <tbody>\n",
       "    <tr>\n",
       "      <th rowspan=\"2\" valign=\"top\">1978</th>\n",
       "      <th rowspan=\"2\" valign=\"top\">5</th>\n",
       "      <th>12</th>\n",
       "      <td>0.062500</td>\n",
       "      <td>[0, 3]</td>\n",
       "    </tr>\n",
       "    <tr>\n",
       "      <th>13</th>\n",
       "      <td>0.312500</td>\n",
       "      <td>[6, 9, 12, 15, 18, 21]</td>\n",
       "    </tr>\n",
       "    <tr>\n",
       "      <th rowspan=\"14\" valign=\"top\">1980</th>\n",
       "      <th>5</th>\n",
       "      <th>3</th>\n",
       "      <td>0.312500</td>\n",
       "      <td>[6, 9, 12, 15, 18, 21]</td>\n",
       "    </tr>\n",
       "    <tr>\n",
       "      <th>7</th>\n",
       "      <th>26</th>\n",
       "      <td>0.312500</td>\n",
       "      <td>[6, 9, 12, 15, 18, 21]</td>\n",
       "    </tr>\n",
       "    <tr>\n",
       "      <th rowspan=\"12\" valign=\"top\">8</th>\n",
       "      <th>2</th>\n",
       "      <td>0.312500</td>\n",
       "      <td>[6, 9, 12, 15, 18, 21]</td>\n",
       "    </tr>\n",
       "    <tr>\n",
       "      <th>3</th>\n",
       "      <td>0.312500</td>\n",
       "      <td>[6, 9, 12, 15, 18, 21]</td>\n",
       "    </tr>\n",
       "    <tr>\n",
       "      <th>4</th>\n",
       "      <td>0.312500</td>\n",
       "      <td>[6, 9, 12, 15, 18, 21]</td>\n",
       "    </tr>\n",
       "    <tr>\n",
       "      <th>5</th>\n",
       "      <td>0.312500</td>\n",
       "      <td>[6, 9, 12, 15, 18, 21]</td>\n",
       "    </tr>\n",
       "    <tr>\n",
       "      <th>6</th>\n",
       "      <td>0.312500</td>\n",
       "      <td>[6, 9, 12, 15, 18, 21]</td>\n",
       "    </tr>\n",
       "    <tr>\n",
       "      <th>7</th>\n",
       "      <td>0.312500</td>\n",
       "      <td>[6, 9, 12, 15, 18, 21]</td>\n",
       "    </tr>\n",
       "    <tr>\n",
       "      <th>8</th>\n",
       "      <td>0.312500</td>\n",
       "      <td>[6, 9, 12, 15, 18, 21]</td>\n",
       "    </tr>\n",
       "    <tr>\n",
       "      <th>9</th>\n",
       "      <td>0.312500</td>\n",
       "      <td>[6, 9, 12, 15, 18, 21]</td>\n",
       "    </tr>\n",
       "    <tr>\n",
       "      <th>10</th>\n",
       "      <td>0.312500</td>\n",
       "      <td>[6, 9, 12, 15, 18, 21]</td>\n",
       "    </tr>\n",
       "    <tr>\n",
       "      <th>11</th>\n",
       "      <td>0.312500</td>\n",
       "      <td>[6, 9, 12, 15, 18, 21]</td>\n",
       "    </tr>\n",
       "    <tr>\n",
       "      <th>19</th>\n",
       "      <td>0.312500</td>\n",
       "      <td>[6, 9, 12, 15, 18, 21]</td>\n",
       "    </tr>\n",
       "    <tr>\n",
       "      <th>20</th>\n",
       "      <td>0.312500</td>\n",
       "      <td>[6, 9, 12, 15, 18, 21]</td>\n",
       "    </tr>\n",
       "    <tr>\n",
       "      <th rowspan=\"3\" valign=\"top\">1981</th>\n",
       "      <th rowspan=\"3\" valign=\"top\">7</th>\n",
       "      <th>7</th>\n",
       "      <td>0.312500</td>\n",
       "      <td>[6, 9, 12, 15, 18, 21]</td>\n",
       "    </tr>\n",
       "    <tr>\n",
       "      <th>8</th>\n",
       "      <td>0.312500</td>\n",
       "      <td>[6, 9, 12, 15, 18, 21]</td>\n",
       "    </tr>\n",
       "    <tr>\n",
       "      <th>9</th>\n",
       "      <td>0.312500</td>\n",
       "      <td>[6, 9, 12, 15, 18, 21]</td>\n",
       "    </tr>\n",
       "    <tr>\n",
       "      <th>2004</th>\n",
       "      <th>6</th>\n",
       "      <th>3</th>\n",
       "      <td>0.250000</td>\n",
       "      <td>[0, 4, 5, 6, 7, 8, 9, 10, 11, 12, 21, 22, 23]</td>\n",
       "    </tr>\n",
       "    <tr>\n",
       "      <th>2006</th>\n",
       "      <th>6</th>\n",
       "      <th>2</th>\n",
       "      <td>0.333333</td>\n",
       "      <td>[7, 8, 9, 10, 11, 12, 13, 14, 15, 16, 17, 18, 19, 20, 21, 22, 23]</td>\n",
       "    </tr>\n",
       "  </tbody>\n",
       "</table>\n",
       "</div>"
      ],
      "text/plain": [
       "                     iqr  \\\n",
       "year month day             \n",
       "1978 5     12   0.062500   \n",
       "           13   0.312500   \n",
       "1980 5     3    0.312500   \n",
       "     7     26   0.312500   \n",
       "     8     2    0.312500   \n",
       "           3    0.312500   \n",
       "           4    0.312500   \n",
       "           5    0.312500   \n",
       "           6    0.312500   \n",
       "           7    0.312500   \n",
       "           8    0.312500   \n",
       "           9    0.312500   \n",
       "           10   0.312500   \n",
       "           11   0.312500   \n",
       "           19   0.312500   \n",
       "           20   0.312500   \n",
       "1981 7     7    0.312500   \n",
       "           8    0.312500   \n",
       "           9    0.312500   \n",
       "2004 6     3    0.250000   \n",
       "2006 6     2    0.333333   \n",
       "\n",
       "                                                                     measurements  \n",
       "year month day                                                                     \n",
       "1978 5     12                                                              [0, 3]  \n",
       "           13                                              [6, 9, 12, 15, 18, 21]  \n",
       "1980 5     3                                               [6, 9, 12, 15, 18, 21]  \n",
       "     7     26                                              [6, 9, 12, 15, 18, 21]  \n",
       "     8     2                                               [6, 9, 12, 15, 18, 21]  \n",
       "           3                                               [6, 9, 12, 15, 18, 21]  \n",
       "           4                                               [6, 9, 12, 15, 18, 21]  \n",
       "           5                                               [6, 9, 12, 15, 18, 21]  \n",
       "           6                                               [6, 9, 12, 15, 18, 21]  \n",
       "           7                                               [6, 9, 12, 15, 18, 21]  \n",
       "           8                                               [6, 9, 12, 15, 18, 21]  \n",
       "           9                                               [6, 9, 12, 15, 18, 21]  \n",
       "           10                                              [6, 9, 12, 15, 18, 21]  \n",
       "           11                                              [6, 9, 12, 15, 18, 21]  \n",
       "           19                                              [6, 9, 12, 15, 18, 21]  \n",
       "           20                                              [6, 9, 12, 15, 18, 21]  \n",
       "1981 7     7                                               [6, 9, 12, 15, 18, 21]  \n",
       "           8                                               [6, 9, 12, 15, 18, 21]  \n",
       "           9                                               [6, 9, 12, 15, 18, 21]  \n",
       "2004 6     3                        [0, 4, 5, 6, 7, 8, 9, 10, 11, 12, 21, 22, 23]  \n",
       "2006 6     2    [7, 8, 9, 10, 11, 12, 13, 14, 15, 16, 17, 18, 19, 20, 21, 22, 23]  "
      ]
     },
     "execution_count": 24,
     "metadata": {},
     "output_type": "execute_result"
    }
   ],
   "source": [
    "Ant_spread[np.logical_or(Ant_spread['iqr']>0.6, Ant_spread['iqr']<0.4)]"
   ]
  },
  {
   "cell_type": "code",
   "execution_count": 25,
   "id": "1960d153",
   "metadata": {},
   "outputs": [],
   "source": [
    "Lie_spread=Lie_summer.set_index(['year', 'month', 'day']).groupby(level=[0, 1, 2])[['hour_unif']].agg(iqr)\n",
    "Lie_spread['measurements']=Lie_summer.set_index(['year', 'month', 'day']).groupby(level=[0, 1, 2])['hour'].apply(list)\n",
    "Lie_spread.rename(columns={'hour_unif':'iqr'}, inplace=True)"
   ]
  },
  {
   "cell_type": "code",
   "execution_count": 26,
   "id": "5c786152",
   "metadata": {},
   "outputs": [
    {
     "data": {
      "text/html": [
       "<div>\n",
       "<style scoped>\n",
       "    .dataframe tbody tr th:only-of-type {\n",
       "        vertical-align: middle;\n",
       "    }\n",
       "\n",
       "    .dataframe tbody tr th {\n",
       "        vertical-align: top;\n",
       "    }\n",
       "\n",
       "    .dataframe thead th {\n",
       "        text-align: right;\n",
       "    }\n",
       "</style>\n",
       "<table border=\"1\" class=\"dataframe\">\n",
       "  <thead>\n",
       "    <tr style=\"text-align: right;\">\n",
       "      <th></th>\n",
       "      <th></th>\n",
       "      <th></th>\n",
       "      <th>iqr</th>\n",
       "      <th>measurements</th>\n",
       "    </tr>\n",
       "    <tr>\n",
       "      <th>year</th>\n",
       "      <th>month</th>\n",
       "      <th>day</th>\n",
       "      <th></th>\n",
       "      <th></th>\n",
       "    </tr>\n",
       "  </thead>\n",
       "  <tbody>\n",
       "    <tr>\n",
       "      <th rowspan=\"6\" valign=\"top\">2004</th>\n",
       "      <th rowspan=\"2\" valign=\"top\">5</th>\n",
       "      <th>26</th>\n",
       "      <td>0.375000</td>\n",
       "      <td>[0, 1, 2, 3, 4, 5, 6, 7, 8, 9, 10, 11, 12, 13, 14, 16, 17, 18, 19]</td>\n",
       "    </tr>\n",
       "    <tr>\n",
       "      <th>27</th>\n",
       "      <td>0.395833</td>\n",
       "      <td>[2, 3, 4, 5, 6, 7, 8, 9, 10, 11, 12, 13, 14, 15, 16, 17, 18, 20, 21, 22]</td>\n",
       "    </tr>\n",
       "    <tr>\n",
       "      <th rowspan=\"2\" valign=\"top\">6</th>\n",
       "      <th>3</th>\n",
       "      <td>0.250000</td>\n",
       "      <td>[0, 4, 5, 6, 7, 8, 9, 10, 11, 12, 21, 22, 23]</td>\n",
       "    </tr>\n",
       "    <tr>\n",
       "      <th>27</th>\n",
       "      <td>0.395833</td>\n",
       "      <td>[3, 5, 6, 7, 8, 9, 10, 11, 12, 13, 14, 15, 16, 17, 18, 19, 20, 21, 22, 23]</td>\n",
       "    </tr>\n",
       "    <tr>\n",
       "      <th>7</th>\n",
       "      <th>30</th>\n",
       "      <td>0.375000</td>\n",
       "      <td>[0, 1, 2, 3, 4, 5, 6, 7, 8, 9, 10, 11, 12, 13, 14, 15, 16, 17, 20]</td>\n",
       "    </tr>\n",
       "    <tr>\n",
       "      <th>8</th>\n",
       "      <th>9</th>\n",
       "      <td>0.354167</td>\n",
       "      <td>[0, 1, 2, 3, 4, 5, 6, 7, 8, 9, 10, 11, 12, 13, 14, 15, 16, 17]</td>\n",
       "    </tr>\n",
       "  </tbody>\n",
       "</table>\n",
       "</div>"
      ],
      "text/plain": [
       "                     iqr  \\\n",
       "year month day             \n",
       "2004 5     26   0.375000   \n",
       "           27   0.395833   \n",
       "     6     3    0.250000   \n",
       "           27   0.395833   \n",
       "     7     30   0.375000   \n",
       "     8     9    0.354167   \n",
       "\n",
       "                                                                              measurements  \n",
       "year month day                                                                              \n",
       "2004 5     26           [0, 1, 2, 3, 4, 5, 6, 7, 8, 9, 10, 11, 12, 13, 14, 16, 17, 18, 19]  \n",
       "           27     [2, 3, 4, 5, 6, 7, 8, 9, 10, 11, 12, 13, 14, 15, 16, 17, 18, 20, 21, 22]  \n",
       "     6     3                                 [0, 4, 5, 6, 7, 8, 9, 10, 11, 12, 21, 22, 23]  \n",
       "           27   [3, 5, 6, 7, 8, 9, 10, 11, 12, 13, 14, 15, 16, 17, 18, 19, 20, 21, 22, 23]  \n",
       "     7     30           [0, 1, 2, 3, 4, 5, 6, 7, 8, 9, 10, 11, 12, 13, 14, 15, 16, 17, 20]  \n",
       "     8     9                [0, 1, 2, 3, 4, 5, 6, 7, 8, 9, 10, 11, 12, 13, 14, 15, 16, 17]  "
      ]
     },
     "execution_count": 26,
     "metadata": {},
     "output_type": "execute_result"
    }
   ],
   "source": [
    "Lie_spread[np.logical_or(Lie_spread['iqr']>0.6, Lie_spread['iqr']<0.4)]"
   ]
  },
  {
   "cell_type": "markdown",
   "id": "63c9261f",
   "metadata": {},
   "source": [
    "**For Antwerp, although (6, 9, 12, 15, 18, 21) ignores the nighttime measurements we cannot interpolate from neighboring days as they come in rows. So, I would drop the year 1980, 1981. The other non-reliable temperatures can be interpolated from the neighboring days.**"
   ]
  },
  {
   "cell_type": "markdown",
   "id": "e7b3fdf1",
   "metadata": {},
   "source": [
    "# Daily mean computation, interpolation, dropping some years"
   ]
  },
  {
   "cell_type": "code",
   "execution_count": 27,
   "id": "260d046d",
   "metadata": {},
   "outputs": [],
   "source": [
    "Bru=Bru_summer.set_index(['year', 'month', 'day']).groupby(level=[0, 1, 2])[['temp']].mean()\n",
    "Ant=Ant_summer.set_index(['year', 'month', 'day']).groupby(level=[0, 1, 2])[['temp']].mean()\n",
    "Lie=Lie_summer.set_index(['year', 'month', 'day']).groupby(level=[0, 1, 2])[['temp']].mean()"
   ]
  },
  {
   "cell_type": "code",
   "execution_count": 28,
   "id": "b3c0e967",
   "metadata": {},
   "outputs": [],
   "source": [
    "Ant.drop([1980, 1981], level=0, axis=0, inplace=True)"
   ]
  },
  {
   "cell_type": "code",
   "execution_count": 29,
   "id": "768b5adf",
   "metadata": {},
   "outputs": [],
   "source": [
    "Bru.loc[1960, 5, 25]=(Bru.xs((1960, 5, 24))+Bru.xs((1960, 5, 26)))/2\n",
    "Bru.loc[2004, 6, 3]=(Bru.xs((2004, 6, 2))+Bru.xs((2004, 6, 4)))/2\n",
    "Ant.loc[1964, 8, 18]=(Ant.xs((1964, 8, 17))+Ant.xs((1964, 8, 19)))/2\n",
    "Ant.loc[1978, 5, 12]=(Ant.xs((1978, 5, 11))+Ant.xs((1978, 5, 13)))/2\n",
    "Ant.loc[2004, 6, 3]=(Ant.xs((2004, 6, 1))+Ant.xs((2004, 6, 4)))/2\n",
    "Ant.loc[2006, 6, 2]=(Ant.xs((2006, 6, 1))+Ant.xs((2006, 6, 4)))/2\n",
    "Ant.loc[1978, 5, 12]=(Ant.xs((1978, 5, 11))+Ant.xs((1978, 5, 14)))/2\n",
    "Ant.loc[1978, 5, 13]=(Ant.xs((1978, 5, 11))+Ant.xs((1978, 5, 14)))/2\n",
    "Lie.loc[1954, 7, 29]=(Lie.xs((1954, 7, 28))+Lie.xs((1954, 7, 31)))/2\n",
    "Lie.loc[1954, 7, 30]=(Lie.xs((1954, 7, 28))+Lie.xs((1954, 7, 31)))/2\n",
    "Lie.loc[1976, 7, 25]=(Lie.xs((1976, 7, 24))+Lie.xs((1976, 7, 26)))/2\n",
    "Lie.loc[2004, 5, 26]=(Lie.xs((2004, 5, 25))+Lie.xs((2004, 5, 27)))/2\n",
    "Lie.loc[2004, 6, 3]=(Lie.xs((2004, 6, 2))+Lie.xs((2004, 6, 4)))/2\n",
    "Lie.loc[2004, 7, 30]=(Lie.xs((2004, 7, 29))+Lie.xs((2004, 7, 31)))/2\n",
    "Lie.loc[2004, 8, 9]=(Lie.xs((2004, 7, 29))+Lie.xs((2004, 7, 31)))/2"
   ]
  },
  {
   "cell_type": "code",
   "execution_count": 30,
   "id": "c65824d6",
   "metadata": {},
   "outputs": [],
   "source": [
    "Bru_summer=Bru\n",
    "Ant_summer=Ant\n",
    "Lie_summer=Lie"
   ]
  },
  {
   "cell_type": "markdown",
   "id": "1e19c795",
   "metadata": {},
   "source": [
    "# EHF computation"
   ]
  },
  {
   "cell_type": "code",
   "execution_count": 31,
   "id": "ef0fdfbd",
   "metadata": {},
   "outputs": [],
   "source": [
    "T_95_Bru=scoreatpercentile(Brussels.set_index(['year', 'month', 'day']).groupby(level=[0, 1, 2])[['temp']].mean().values, 95)\n",
    "T_95_Ant=scoreatpercentile(Antwerp.set_index(['year', 'month', 'day']).groupby(level=[0, 1, 2])[['temp']].mean().values, 95)\n",
    "T_95_Lie=scoreatpercentile(Liege.set_index(['year', 'month', 'day']).groupby(level=[0, 1, 2])[['temp']].mean().values, 95)"
   ]
  },
  {
   "cell_type": "code",
   "execution_count": 32,
   "id": "997cd8b1",
   "metadata": {},
   "outputs": [],
   "source": [
    "def ehi_gen(df, perc_95):\n",
    "    df['3d_forw'] = df.groupby(level=0)['temp'].transform(lambda x: x.rolling(3, 3).mean(skipna=True)).shift(-2)\n",
    "    df['30d_back'] = df.groupby(level=0)['temp'].transform(lambda x: x.rolling(30, 30, closed='left').mean(skipna=True))\n",
    "    df['EHF_sig'] = df['3d_forw']-perc_95\n",
    "    df['EHF_accl'] = df['3d_forw']-df['30d_back']\n",
    "    df['EHF'] = df['EHF_sig']*df['EHF_accl'].apply(lambda x: np.nan if np.isnan(x) else max(1, x))"
   ]
  },
  {
   "cell_type": "code",
   "execution_count": 33,
   "id": "b8ceaecd",
   "metadata": {},
   "outputs": [],
   "source": [
    "ehi_gen(Bru_summer, T_95_Bru)\n",
    "ehi_gen(Ant_summer, T_95_Ant)\n",
    "ehi_gen(Lie_summer, T_95_Lie)"
   ]
  },
  {
   "cell_type": "code",
   "execution_count": 34,
   "id": "ac86f887",
   "metadata": {},
   "outputs": [],
   "source": [
    "Brussels=Brussels.set_index(['year', 'month', 'day']).dropna(axis=0).groupby(level=[0, 1, 2])[['temp']].mean()\n",
    "Antwerp=Antwerp.set_index(['year', 'month', 'day']).dropna(axis=0).groupby(level=[0, 1, 2])[['temp']].mean()\n",
    "Liege=Liege.set_index(['year', 'month', 'day']).dropna(axis=0).groupby(level=[0, 1, 2])[['temp']].mean()"
   ]
  },
  {
   "cell_type": "code",
   "execution_count": 35,
   "id": "e8d680d7",
   "metadata": {},
   "outputs": [],
   "source": [
    "ehi_gen(Brussels, T_95_Bru)\n",
    "ehi_gen(Antwerp, T_95_Ant)\n",
    "ehi_gen(Liege, T_95_Lie)"
   ]
  },
  {
   "cell_type": "code",
   "execution_count": 36,
   "id": "aff6c829",
   "metadata": {},
   "outputs": [],
   "source": [
    "EHI_85_Bru=scoreatpercentile(Brussels[Brussels['EHF']>0]['EHF'], 85)\n",
    "EHI_85_Ant=scoreatpercentile(Antwerp[Antwerp['EHF']>0]['EHF'], 85)\n",
    "EHI_85_Lie=scoreatpercentile(Liege[Liege['EHF']>0]['EHF'], 85)"
   ]
  },
  {
   "cell_type": "code",
   "execution_count": 37,
   "id": "4661be2f",
   "metadata": {},
   "outputs": [],
   "source": [
    "Bru_summer['Severe_heatwave']=Bru_summer['EHF'].apply(lambda x: True if x>=EHI_85_Bru else False)\n",
    "Ant_summer['Severe_heatwave']=Ant_summer['EHF'].apply(lambda x: True if x>=EHI_85_Ant else False)\n",
    "Lie_summer['Severe_heatwave']=Lie_summer['EHF'].apply(lambda x: True if x>=EHI_85_Lie else False)"
   ]
  },
  {
   "cell_type": "code",
   "execution_count": 38,
   "id": "b45d35ba",
   "metadata": {},
   "outputs": [],
   "source": [
    "Bru=Bru_summer.loc[:, [6,7,8], :].copy()\n",
    "Ant=Ant_summer.loc[:, [6,7,8], :].copy()\n",
    "Lie=Lie_summer.loc[:, [6,7,8], :].copy()"
   ]
  },
  {
   "cell_type": "code",
   "execution_count": 39,
   "id": "bac28825",
   "metadata": {},
   "outputs": [],
   "source": [
    "Bru['count_true']=Bru.groupby(level=0)['Severe_heatwave'].transform(lambda x: x.rolling(3, 3).sum()).shift(-2)\n",
    "Ant['count_true']=Ant.groupby(level=0)['Severe_heatwave'].transform(lambda x: x.rolling(3, 3).sum()).shift(-2)\n",
    "Lie['count_true']=Lie.groupby(level=0)['Severe_heatwave'].transform(lambda x: x.rolling(3, 3).sum()).shift(-2)"
   ]
  },
  {
   "cell_type": "code",
   "execution_count": 40,
   "id": "ac45e0d8",
   "metadata": {},
   "outputs": [],
   "source": [
    "Bru['Severe']=Bru['count_true'].apply(lambda x: True if x>0 else False)\n",
    "Ant['Severe']=Ant['count_true'].apply(lambda x: True if x>0 else False)\n",
    "Lie['Severe']=Lie['count_true'].apply(lambda x: True if x>0 else False)"
   ]
  },
  {
   "cell_type": "code",
   "execution_count": 41,
   "id": "8729d447",
   "metadata": {},
   "outputs": [],
   "source": [
    "Bru_count=pd.DataFrame(Bru.groupby(level=0)['Severe'].sum())\n",
    "Ant_count=pd.DataFrame(Ant.groupby(level=0)['Severe'].sum())\n",
    "Lie_count=pd.DataFrame(Lie.groupby(level=0)['Severe'].sum())"
   ]
  },
  {
   "cell_type": "code",
   "execution_count": 42,
   "id": "1af34a8f",
   "metadata": {},
   "outputs": [
    {
     "data": {
      "image/png": "[encoded data removed]",
      "text/plain": [
       "<Figure size 864x648 with 3 Axes>"
      ]
     },
     "metadata": {
      "needs_background": "light"
     },
     "output_type": "display_data"
    }
   ],
   "source": [
    "fig, axes = plt.subplots(3, 1, figsize=(12, 9))\n",
    "fig.tight_layout()\n",
    "fig.suptitle('Number of severe heatwave days in Belgian cities', y=1.05, fontsize='x-large')\n",
    "plt.subplots_adjust(left=None, bottom=None, right=None, top=None, wspace=None, hspace=0.4)\n",
    "sns.lineplot(ax=axes[0], data=Bru_count, palette=\"rocket\", linewidth=1, legend=False)\n",
    "sns.lineplot(ax=axes[1],data=Ant_count, palette=\"rocket\", linewidth=1, legend=False)\n",
    "sns.lineplot(ax=axes[2],data=Lie_count, palette=\"rocket\", linewidth=1, legend=False)\n",
    "axes[0].set_xlabel(\"Year\", fontsize = 10)\n",
    "axes[0].set_ylabel(\"Number of days\", fontsize = 10)\n",
    "axes[0].set(title='Brussels')\n",
    "axes[1].set_xlabel(\"Year\", fontsize = 10)\n",
    "axes[1].set_ylabel(\"Number of days\", fontsize = 10)\n",
    "axes[1].set(title='Antwerp')\n",
    "axes[2].set_xlabel(\"Year\", fontsize = 10)\n",
    "axes[2].set_ylabel(\"Number of days\", fontsize = 10)\n",
    "axes[2].set(title='Liege')\n",
    "plt.show()"
   ]
  },
  {
   "cell_type": "code",
   "execution_count": 43,
   "id": "3060a0fd",
   "metadata": {},
   "outputs": [
    {
     "data": {
      "image/png": "[encoded data removed]",
      "text/plain": [
       "<Figure size 432x288 with 1 Axes>"
      ]
     },
     "metadata": {
      "needs_background": "light"
     },
     "output_type": "display_data"
    }
   ],
   "source": [
    "plt.scatter(x=Bru_count.index, y=Bru_count['Severe'])\n",
    "plt.show()"
   ]
  },
  {
   "cell_type": "markdown",
   "id": "cb17d26c",
   "metadata": {},
   "source": [
    "# Model fitting/selection"
   ]
  },
  {
   "cell_type": "markdown",
   "id": "cebf6bde",
   "metadata": {},
   "source": [
    "**Here we are interested two things: achieve a good fit, and predict the number of heatwaves in coming years well. Thus, it is important not to overfit (use regularization) and check sample performance on the data of last years. On the one hand we need enough points to understand the trend and also enough test data. On the other han we see that the last 20 years there have been more heatwave days. Thus 10 years for the test data is a good compromise.**"
   ]
  },
  {
   "cell_type": "code",
   "execution_count": 44,
   "id": "6acfa295",
   "metadata": {},
   "outputs": [],
   "source": [
    "Bru_test=Bru_count.tail(10).reset_index().rename(columns={\"year\": \"Year\"})\n",
    "Bru_train=Bru_count.head(Bru_count.size-10).reset_index().rename(columns={\"year\": \"Year\"})\n",
    "Bru_full=Bru_count.reset_index().rename(columns={\"year\": \"Year\"})\n",
    "Ant_full=Ant_count.reset_index().rename(columns={\"year\": \"Year\"})\n",
    "Lie_full=Lie_count.reset_index().rename(columns={\"year\": \"Year\"})"
   ]
  },
  {
   "cell_type": "markdown",
   "id": "f5636c15",
   "metadata": {},
   "source": [
    "**In the following sections we will be carrying out the analysis only for the Brussels dataset as the trend is very similar for other cities too. However, the we will fit the chosen model individually for each city in the end.**"
   ]
  },
  {
   "cell_type": "markdown",
   "id": "4f0f3ada",
   "metadata": {},
   "source": [
    "**Data Preprocessing**"
   ]
  },
  {
   "cell_type": "code",
   "execution_count": 45,
   "id": "1a027b47",
   "metadata": {},
   "outputs": [],
   "source": [
    "def return_summary(model, X_train, X_test, target_train, target_test):\n",
    "    model.fit(X_train, target_train)\n",
    "    pred=model.predict(X_train)\n",
    "    print(\"Training MAE is: \"+ str(mean_absolute_error(target_train, pred)))\n",
    "    print(\"Trainig R2 is: \"+ str(model.score(X_train, target_train)))\n",
    "    pred=model.predict(X_test)\n",
    "    print(\"Training MAE is: \"+ str(mean_absolute_error(target_test, pred)))\n",
    "    print(\"Trainig R2 is: \"+ str(model.score(X_test, target_test)))"
   ]
  },
  {
   "cell_type": "code",
   "execution_count": 46,
   "id": "019c1369",
   "metadata": {},
   "outputs": [],
   "source": [
    "def plot(model, X_train, target_train, title):\n",
    "    plt.scatter(years, target_train,color='g')\n",
    "    plt.plot(years, model.predict(X_train),color='b')\n",
    "    plt.xlabel(\"Year\")\n",
    "    plt.ylabel(\"Number of Severe heatwave days\")\n",
    "    plt.title(title)\n",
    "    plt.show()"
   ]
  },
  {
   "cell_type": "code",
   "execution_count": 47,
   "id": "0470e45b",
   "metadata": {},
   "outputs": [],
   "source": [
    "standardizer_1=StandardScaler()\n",
    "standardizer_2=StandardScaler()\n",
    "trans=PolynomialFeatures(degree=2, include_bias=False)\n",
    "pipe=Pipeline([('stand_2', standardizer_2),\n",
    "              ('trans', trans)])\n",
    "standard_train=standardizer_1.fit_transform(Bru_train['Year'].values.reshape(-1, 1))\n",
    "standard_test=standardizer_1.transform(Bru_test['Year'].values.reshape(-1, 1))\n",
    "standard_train_2=pipe.fit_transform(Bru_train['Year'].values.reshape(-1, 1))\n",
    "standard_test_2=pipe.transform(Bru_test['Year'].values.reshape(-1, 1))\n",
    "target_train=Bru_train['Severe'].values.reshape(-1, 1)\n",
    "target_test=Bru_test['Severe'].values.reshape(-1, 1)\n",
    "years=Bru_train['Year'].values.reshape(-1, 1)"
   ]
  },
  {
   "cell_type": "code",
   "execution_count": 48,
   "id": "f6323ba1",
   "metadata": {},
   "outputs": [],
   "source": [
    "cv=KFold(n_splits=10, shuffle=True, random_state=0)"
   ]
  },
  {
   "cell_type": "markdown",
   "id": "ea5925c6",
   "metadata": {},
   "source": [
    "***First degree Regression model***"
   ]
  },
  {
   "cell_type": "code",
   "execution_count": 49,
   "id": "92d2df27",
   "metadata": {},
   "outputs": [
    {
     "name": "stdout",
     "output_type": "stream",
     "text": [
      "Training MAE is: 3.2527093945849157\n",
      "Trainig R2 is: 0.07427027293433508\n",
      "Training MAE is: 2.8932536815782166\n",
      "Trainig R2 is: -0.11667550973476137\n"
     ]
    },
    {
     "data": {
      "image/png": "[encoded data removed]",
      "text/plain": [
       "<Figure size 432x288 with 1 Axes>"
      ]
     },
     "metadata": {
      "needs_background": "light"
     },
     "output_type": "display_data"
    }
   ],
   "source": [
    "lr=LinearRegression(fit_intercept=True)\n",
    "lr.fit(standard_train, target_train)\n",
    "return_summary(lr, standard_train, standard_test, target_train, target_test)\n",
    "plot(lr, standard_train, target_train, \"First degree Regression model\")"
   ]
  },
  {
   "cell_type": "markdown",
   "id": "b09ea016",
   "metadata": {},
   "source": [
    "***Second degree Regression model***"
   ]
  },
  {
   "cell_type": "code",
   "execution_count": 50,
   "id": "7ef46252",
   "metadata": {},
   "outputs": [
    {
     "name": "stdout",
     "output_type": "stream",
     "text": [
      "Training MAE is: 3.1952607731126235\n",
      "Trainig R2 is: 0.09014679633685707\n",
      "Training MAE is: 3.1523675746043653\n",
      "Trainig R2 is: 0.06844172801739035\n"
     ]
    },
    {
     "data": {
      "image/png": "[encoded data removed]",
      "text/plain": [
       "<Figure size 432x288 with 1 Axes>"
      ]
     },
     "metadata": {
      "needs_background": "light"
     },
     "output_type": "display_data"
    }
   ],
   "source": [
    "lr_2=LinearRegression(fit_intercept=True)\n",
    "lr_2.fit(standard_train_2, target_train)\n",
    "return_summary(lr, standard_train_2, standard_test_2, target_train, target_test)\n",
    "plot(lr_2, standard_train_2, target_train, \"Second degree Regression model\")"
   ]
  },
  {
   "cell_type": "markdown",
   "id": "6abb8d0e",
   "metadata": {},
   "source": [
    "***First degree Elastic Net***"
   ]
  },
  {
   "cell_type": "code",
   "execution_count": 51,
   "id": "0d2b2be9",
   "metadata": {},
   "outputs": [
    {
     "name": "stdout",
     "output_type": "stream",
     "text": [
      "ElasticNet(alpha=1.0999999999999999, l1_ratio=1e-12)\n"
     ]
    }
   ],
   "source": [
    "parameters = {'alpha':np.linspace(0.1, 2, num=20, endpoint=True), 'l1_ratio': np.geomspace(0.000000000001,0.9,20)}\n",
    "en_1=ElasticNet(fit_intercept=True)\n",
    "clf = GridSearchCV(en_1, parameters, scoring='neg_mean_absolute_error', cv=cv)\n",
    "clf.fit(standard_train, target_train)\n",
    "print(clf.best_estimator_)"
   ]
  },
  {
   "cell_type": "markdown",
   "id": "5cf16668",
   "metadata": {},
   "source": [
    "As the l1_ratio seems to be small we fit Ridge Regression"
   ]
  },
  {
   "cell_type": "markdown",
   "id": "b8c56816",
   "metadata": {},
   "source": [
    "***First degree Ridge Regression***"
   ]
  },
  {
   "cell_type": "code",
   "execution_count": 52,
   "id": "d97b119b",
   "metadata": {},
   "outputs": [
    {
     "name": "stdout",
     "output_type": "stream",
     "text": [
      "Ridge(alpha=56.95695695695696)\n"
     ]
    }
   ],
   "source": [
    "parameters = {'alpha':np.linspace(0, 100, num=1000, endpoint=True)}\n",
    "ri=Ridge(fit_intercept=True)\n",
    "clf = GridSearchCV(ri, parameters, scoring='neg_mean_absolute_error', cv=cv)\n",
    "clf.fit(standard_train, target_train)\n",
    "print(clf.best_estimator_)"
   ]
  },
  {
   "cell_type": "code",
   "execution_count": 53,
   "id": "7961e78e",
   "metadata": {},
   "outputs": [
    {
     "name": "stdout",
     "output_type": "stream",
     "text": [
      "Training MAE is: 3.288535374601786\n",
      "Trainig R2 is: 0.05665633522771918\n",
      "Training MAE is: 3.1478152581278285\n",
      "Trainig R2 is: -0.4413472401046914\n"
     ]
    },
    {
     "data": {
      "image/png": "[encoded data removed]",
      "text/plain": [
       "<Figure size 432x288 with 1 Axes>"
      ]
     },
     "metadata": {
      "needs_background": "light"
     },
     "output_type": "display_data"
    }
   ],
   "source": [
    "ri=clf.best_estimator_\n",
    "ri.fit(standard_train, target_train)\n",
    "return_summary(ri, standard_train, standard_test, target_train, target_test)\n",
    "plot(ri, standard_train, target_train, \"First degree Ridge Regression model\")"
   ]
  },
  {
   "cell_type": "markdown",
   "id": "867594ad",
   "metadata": {},
   "source": [
    "***Second degree Elastic Net***"
   ]
  },
  {
   "cell_type": "code",
   "execution_count": 54,
   "id": "7b0c96e3",
   "metadata": {},
   "outputs": [
    {
     "name": "stdout",
     "output_type": "stream",
     "text": [
      "ElasticNet(alpha=0.9999999999999999, l1_ratio=1e-12)\n"
     ]
    }
   ],
   "source": [
    "parameters = {'alpha':np.linspace(0.1, 2, num=20, endpoint=True), 'l1_ratio': np.geomspace(0.000000000001,0.9,20)}\n",
    "en_2=ElasticNet(fit_intercept=True)\n",
    "clf = GridSearchCV(en_2, parameters, scoring='neg_mean_absolute_error', cv=cv)\n",
    "clf.fit(standard_train_2, target_train)\n",
    "print(clf.best_estimator_)"
   ]
  },
  {
   "cell_type": "markdown",
   "id": "921e9753",
   "metadata": {},
   "source": [
    "As the l1_ratio seems to be small we fit Ridge Regression"
   ]
  },
  {
   "cell_type": "markdown",
   "id": "6045e061",
   "metadata": {},
   "source": [
    "***Second degree Ridge Regression***"
   ]
  },
  {
   "cell_type": "code",
   "execution_count": 55,
   "id": "2f099728",
   "metadata": {},
   "outputs": [
    {
     "name": "stdout",
     "output_type": "stream",
     "text": [
      "Ridge(alpha=56.25625625625626)\n"
     ]
    }
   ],
   "source": [
    "parameters = {'alpha':np.linspace(0, 100, num=1000, endpoint=True)}\n",
    "ri_2=Ridge(fit_intercept=True)\n",
    "clf = GridSearchCV(ri_2, parameters, scoring='neg_mean_absolute_error', cv=cv)\n",
    "clf.fit(standard_train_2, target_train)\n",
    "print(clf.best_estimator_)"
   ]
  },
  {
   "cell_type": "code",
   "execution_count": 56,
   "id": "02264489",
   "metadata": {},
   "outputs": [
    {
     "name": "stdout",
     "output_type": "stream",
     "text": [
      "Training MAE is: 3.2656770903805303\n",
      "Trainig R2 is: 0.06812959892630499\n",
      "Training MAE is: 2.8915119931380664\n",
      "Trainig R2 is: -0.16333156444331354\n"
     ]
    },
    {
     "data": {
      "image/png": "[encoded data removed]",
      "text/plain": [
       "<Figure size 432x288 with 1 Axes>"
      ]
     },
     "metadata": {
      "needs_background": "light"
     },
     "output_type": "display_data"
    }
   ],
   "source": [
    "ri_2=clf.best_estimator_\n",
    "ri_2.fit(standard_train_2, target_train)\n",
    "return_summary(ri_2, standard_train_2, standard_test_2, target_train, target_test)\n",
    "plot(lr_2, standard_train_2, target_train, \"Second degree Ridge Regression model\")"
   ]
  },
  {
   "cell_type": "markdown",
   "id": "b08c07be",
   "metadata": {},
   "source": [
    "As there are some points that could be considered outliers, we will try fitting Huber Regression. The idea behind it is instead of minimizing SSE, it minimizes Huber loss which consists of absolute error for the outliers instead of the quadratic. The tolerance level is defined by epsilon and it also has regularization term alpha. We will tune these using cross validation."
   ]
  },
  {
   "cell_type": "markdown",
   "id": "bafa8c14",
   "metadata": {},
   "source": [
    "***First degree Huber Regression***"
   ]
  },
  {
   "cell_type": "code",
   "execution_count": 57,
   "id": "ae39c875",
   "metadata": {},
   "outputs": [
    {
     "name": "stdout",
     "output_type": "stream",
     "text": [
      "HuberRegressor(alpha=0.0, epsilon=1.2526315789473685)\n"
     ]
    }
   ],
   "source": [
    "parameters = {'epsilon':np.linspace(1.1, 4, num=20, endpoint=True), 'alpha':np.linspace(0, 10, num=30, endpoint=True)}\n",
    "hr_1=HuberRegressor(fit_intercept=True)\n",
    "clf = GridSearchCV(hr_1, parameters, scoring='neg_mean_absolute_error', cv=cv)\n",
    "clf.fit(standard_train, target_train.ravel())\n",
    "print(clf.best_estimator_)"
   ]
  },
  {
   "cell_type": "code",
   "execution_count": 58,
   "id": "fc9cb3a2",
   "metadata": {},
   "outputs": [
    {
     "name": "stdout",
     "output_type": "stream",
     "text": [
      "Training MAE is: 3.1621275137350526\n",
      "Trainig R2 is: 0.041028012484593535\n",
      "Training MAE is: 2.9509685877517855\n",
      "Trainig R2 is: -0.2827307501984804\n"
     ]
    },
    {
     "data": {
      "image/png": "[encoded data removed]",
      "text/plain": [
       "<Figure size 432x288 with 1 Axes>"
      ]
     },
     "metadata": {
      "needs_background": "light"
     },
     "output_type": "display_data"
    }
   ],
   "source": [
    "hr_1=clf.best_estimator_\n",
    "hr_1.fit(standard_train, target_train.ravel())\n",
    "return_summary(hr_1, standard_train, standard_test, target_train.ravel(), target_test.ravel())\n",
    "plot(hr_1, standard_train, target_train, \"First degree Huber Regression model\")"
   ]
  },
  {
   "cell_type": "markdown",
   "id": "261ae6c5",
   "metadata": {},
   "source": [
    "***Second degree Huber Regression***"
   ]
  },
  {
   "cell_type": "code",
   "execution_count": 59,
   "id": "d9d4257a",
   "metadata": {},
   "outputs": [
    {
     "name": "stdout",
     "output_type": "stream",
     "text": [
      "HuberRegressor(alpha=0.0, epsilon=1.1)\n"
     ]
    }
   ],
   "source": [
    "parameters = {'epsilon':np.linspace(1.1, 4, num=20, endpoint=True), 'alpha':np.linspace(0, 10, num=30, endpoint=True)}\n",
    "hr_2=HuberRegressor(fit_intercept=True)\n",
    "clf = GridSearchCV(hr_2, parameters, scoring='neg_mean_absolute_error', cv=cv)\n",
    "clf.fit(standard_train_2, target_train.ravel())\n",
    "print(clf.best_estimator_)"
   ]
  },
  {
   "cell_type": "code",
   "execution_count": 60,
   "id": "e4b8be1e",
   "metadata": {},
   "outputs": [
    {
     "name": "stdout",
     "output_type": "stream",
     "text": [
      "Training MAE is: 3.0031575356070475\n",
      "Trainig R2 is: -0.034015394143079636\n",
      "Training MAE is: 4.11369864114309\n",
      "Trainig R2 is: -0.42853955992279835\n"
     ]
    },
    {
     "data": {
      "image/png": "[encoded data removed]",
      "text/plain": [
       "<Figure size 432x288 with 1 Axes>"
      ]
     },
     "metadata": {
      "needs_background": "light"
     },
     "output_type": "display_data"
    }
   ],
   "source": [
    "hr_2=clf.best_estimator_\n",
    "hr_2.fit(standard_train_2, target_train.ravel())\n",
    "return_summary(hr_2, standard_train_2, standard_test_2, target_train.ravel(), target_test.ravel())\n",
    "plot(hr_2, standard_train_2, target_train, \"Second degree Huber Regression model\")"
   ]
  },
  {
   "cell_type": "markdown",
   "id": "952b80ec",
   "metadata": {},
   "source": [
    "By looking at the plot we can see that there is a possibility of having a bigger error variance when we increase the year. As we the number of severe heatwave days is a count data, it might be reasonable to try Poisson GLM. "
   ]
  },
  {
   "cell_type": "markdown",
   "id": "4d749253",
   "metadata": {},
   "source": [
    "***First degree Poisson Regression***"
   ]
  },
  {
   "cell_type": "code",
   "execution_count": 61,
   "id": "6d6152c2",
   "metadata": {},
   "outputs": [
    {
     "name": "stdout",
     "output_type": "stream",
     "text": [
      "PoissonRegressor(alpha=3.793103448275862)\n"
     ]
    }
   ],
   "source": [
    "parameters = {'alpha':np.linspace(0, 10, num=30, endpoint=True)}\n",
    "pr_1=PoissonRegressor(fit_intercept=True)\n",
    "clf = GridSearchCV(pr_1, parameters, scoring='neg_mean_absolute_error', cv=cv)\n",
    "clf.fit(standard_train, target_train.ravel())\n",
    "print(clf.best_estimator_)"
   ]
  },
  {
   "cell_type": "code",
   "execution_count": 62,
   "id": "e7eb231b",
   "metadata": {},
   "outputs": [
    {
     "name": "stdout",
     "output_type": "stream",
     "text": [
      "Training MAE is: 3.2894173690088655\n",
      "Trainig R2 is: 0.05242888116583455\n",
      "Training MAE is: 3.121951730884674\n",
      "Trainig R2 is: -0.6050388496095493\n"
     ]
    },
    {
     "data": {
      "image/png": "[encoded data removed]",
      "text/plain": [
       "<Figure size 432x288 with 1 Axes>"
      ]
     },
     "metadata": {
      "needs_background": "light"
     },
     "output_type": "display_data"
    }
   ],
   "source": [
    "pr_1=clf.best_estimator_\n",
    "pr_1.fit(standard_train, target_train.ravel())\n",
    "return_summary(pr_1, standard_train, standard_test, target_train.ravel(), target_test.ravel())\n",
    "plot(pr_1, standard_train, target_train, \"First degree Poisson Regression model\")"
   ]
  },
  {
   "cell_type": "markdown",
   "id": "b6b3a359",
   "metadata": {},
   "source": [
    "***Second degree Poisson Regression***"
   ]
  },
  {
   "cell_type": "code",
   "execution_count": 63,
   "id": "2d2998b0",
   "metadata": {},
   "outputs": [
    {
     "name": "stdout",
     "output_type": "stream",
     "text": [
      "PoissonRegressor(alpha=4.137931034482759)\n"
     ]
    }
   ],
   "source": [
    "parameters = {'alpha':np.linspace(0, 10, num=30, endpoint=True)}\n",
    "pr_2=PoissonRegressor(fit_intercept=True)\n",
    "clf = GridSearchCV(pr_2, parameters, scoring='neg_mean_absolute_error', cv=cv)\n",
    "clf.fit(standard_train_2, target_train.ravel())\n",
    "print(clf.best_estimator_)"
   ]
  },
  {
   "cell_type": "code",
   "execution_count": 64,
   "id": "416d1ad7",
   "metadata": {},
   "outputs": [
    {
     "name": "stdout",
     "output_type": "stream",
     "text": [
      "Training MAE is: 3.2777935497773516\n",
      "Trainig R2 is: 0.058417435281283736\n",
      "Training MAE is: 2.8910186243071623\n",
      "Trainig R2 is: -0.15807514370147246\n"
     ]
    },
    {
     "data": {
      "image/png": "[encoded data removed]",
      "text/plain": [
       "<Figure size 432x288 with 1 Axes>"
      ]
     },
     "metadata": {
      "needs_background": "light"
     },
     "output_type": "display_data"
    }
   ],
   "source": [
    "pr_2=clf.best_estimator_\n",
    "pr_2.fit(standard_train_2, target_train.ravel())\n",
    "return_summary(pr_2, standard_train_2, standard_test_2, target_train.ravel(), target_test.ravel())\n",
    "plot(pr_2, standard_train_2, target_train, \"Second degree Poisson Regression model\")"
   ]
  },
  {
   "cell_type": "markdown",
   "id": "0bd32cf3",
   "metadata": {},
   "source": [
    "$$Summary$$"
   ]
  },
  {
   "cell_type": "markdown",
   "id": "a902dcfd",
   "metadata": {},
   "source": [
    "| Model | Training MAE   | Test MAE |\n",
    "|------|------|------|\n",
    "|   First Degree Linear Regression  | 3.2527 | 2.8932 |\n",
    "|   Second Degree Linear Regression  | 3.1952 | 3.1523 |\n",
    "|   First Degree Ridge Regression  | 3.2885 | 2.1478 |\n",
    "|   Second Degree Ridge Regression  | 3.2656 | 2.8915 |\n",
    "|   First Degree Huber Regression  | 3.1621 | 2.9509 |\n",
    "|   Second Degree Huber Regression  | 3.0031 | 4.1136 |\n",
    "|   First Degree Poisson Regression  | 3.2894 | 3.1219 |\n",
    "|   Second Degree Poisson Regression  | 3.2777 | 2.8910 |"
   ]
  },
  {
   "cell_type": "markdown",
   "id": "d9ee06f5",
   "metadata": {},
   "source": [
    "*We see that the Second Huber Regression has the smallest MAE for the training. So, we choose this model for predictions. However, it does not generalize will for the test set. Thas comes at no surprise as it was trained by giving small weight to outliers. If we want to include outliers as usual observations in our predictions, Second Degree Linear Regression seems to be a good choice with the smallest training MAE and reasonable test MAE that generalizes well. Thus, the user will be given average predicition that takes into account the possible outliers in the future, and that does not take into account.*"
   ]
  },
  {
   "cell_type": "markdown",
   "id": "43ab0489",
   "metadata": {},
   "source": [
    "# Historical EHF plot and prediction"
   ]
  },
  {
   "cell_type": "code",
   "execution_count": 65,
   "id": "8a50ca7f",
   "metadata": {},
   "outputs": [],
   "source": [
    "Bru_summer['Date']=Bru_summer.index.get_level_values(0).astype(str) + '/' + Bru_summer.index.get_level_values(1).astype(str) + '/' + Bru_summer.index.get_level_values(2).astype(str)\n",
    "Ant_summer['Date']=Ant_summer.index.get_level_values(0).astype(str) + '/' + Ant_summer.index.get_level_values(1).astype(str) + '/' + Ant_summer.index.get_level_values(2).astype(str)\n",
    "Lie_summer['Date']=Lie_summer.index.get_level_values(0).astype(str) + '/' + Lie_summer.index.get_level_values(1).astype(str) + '/' + Lie_summer.index.get_level_values(2).astype(str)"
   ]
  },
  {
   "cell_type": "code",
   "execution_count": 66,
   "id": "bf426cb5",
   "metadata": {},
   "outputs": [],
   "source": [
    "Bru_summer=Bru_summer.loc[:, 6:9, :]\n",
    "Ant_summer=Ant_summer.loc[:, 6:9, :]\n",
    "Lie_summer=Lie_summer.loc[:, 6:9, :]"
   ]
  },
  {
   "cell_type": "code",
   "execution_count": 67,
   "id": "7a005815",
   "metadata": {},
   "outputs": [],
   "source": [
    "Bru_summer=Bru_summer[Bru_summer['EHF'].notna()]\n",
    "Ant_summer=Ant_summer[Ant_summer['EHF'].notna()]\n",
    "Lie_summer=Lie_summer[Lie_summer['EHF'].notna()]"
   ]
  },
  {
   "cell_type": "code",
   "execution_count": 68,
   "id": "4b55ccf4",
   "metadata": {},
   "outputs": [],
   "source": [
    "def ehf_plot(location, year):\n",
    "    try:\n",
    "        if not isinstance(location, str):\n",
    "            print(\"Location has to be a string\")\n",
    "            print(\"Please select on of the cities: Brussels, Antwerp, Liege\")\n",
    "            return None\n",
    "        if not isinstance(year, int):\n",
    "            print(\"A year has to be an integer number\")\n",
    "            return None\n",
    "        if location==\"Brussels\":\n",
    "            ehi=EHI_85_Bru\n",
    "            city=Bru_summer\n",
    "        elif location==\"Antwerp\":\n",
    "            ehi=EHI_85_Ant\n",
    "            city=Ant_summer\n",
    "        elif location==\"Liege\":\n",
    "            ehi=EHI_85_Lie\n",
    "            city=Lie_summer\n",
    "        else:\n",
    "            print(\"Please select on of the cities: Brussels, Antwerp, Liege\")\n",
    "            return None\n",
    "        pal = sns.color_palette(\"YlOrBr\", len(city.loc[year, :, :]))\n",
    "        rank = city.loc[year, :, :]['EHF'].argsort().argsort()\n",
    "        fig, ax = plt.subplots(figsize=(15,5))\n",
    "        barplot=sns.barplot(ax=ax, x='Date', y='EHF',  data=city.loc[year, :, :], palette=np.array(pal)[rank])\n",
    "        for index, label in enumerate(barplot.get_xticklabels()):\n",
    "            if index % 4 == 0:\n",
    "                label.set_visible(True)\n",
    "            else:\n",
    "                label.set_visible(False)\n",
    "        plt.xticks(rotation=30, size = 9)\n",
    "        ax.axhline(ehi, ls='--', color='r')\n",
    "        ax.text(0.25,ehi+1, \"Severe Heatwave\", size=10)\n",
    "        ax.axhline(3*ehi, ls='--', color='r')\n",
    "        ax.text(0.25,3*ehi+1, \"Extreme Heatwave\", size=10)\n",
    "        plt.show()\n",
    "    except:\n",
    "        print(\"We do not have enough data for\" + location + \"in given year\")\n",
    "        "
   ]
  },
  {
   "cell_type": "code",
   "execution_count": 69,
   "id": "303c7a41",
   "metadata": {},
   "outputs": [
    {
     "data": {
      "image/png": "[encoded data removed]",
      "text/plain": [
       "<Figure size 1080x360 with 1 Axes>"
      ]
     },
     "metadata": {
      "needs_background": "light"
     },
     "output_type": "display_data"
    }
   ],
   "source": [
    "ehf_plot(\"Antwerp\", 2019)"
   ]
  },
  {
   "cell_type": "code",
   "execution_count": 70,
   "id": "3c959467",
   "metadata": {},
   "outputs": [
    {
     "data": {
      "image/png": "[encoded data removed]",
      "text/plain": [
       "<Figure size 1080x360 with 1 Axes>"
      ]
     },
     "metadata": {
      "needs_background": "light"
     },
     "output_type": "display_data"
    }
   ],
   "source": [
    "ehf_plot(\"Brussels\", 2003)"
   ]
  },
  {
   "cell_type": "code",
   "execution_count": 71,
   "id": "7f69004a",
   "metadata": {},
   "outputs": [],
   "source": [
    "def predictions(location, year):\n",
    "    try:\n",
    "        if not isinstance(location, str):\n",
    "            print(\"Location has to be a string\")\n",
    "            print(\"Please select on of the cities: Brussels, Antwerp, Liege\")\n",
    "            return None\n",
    "        if not isinstance(year, int):\n",
    "            print(\"A year has to be an integer number\")\n",
    "            return None\n",
    "        if year<2021:\n",
    "            print(\"Select a year which is in future, for past years you can use ehf_plot function\")\n",
    "            return None\n",
    "        if year>2050:\n",
    "            print('Predicition horizon is too far, showing only until 2040')\n",
    "            year=2040\n",
    "        if location==\"Brussels\":\n",
    "            city=Bru_full\n",
    "        elif location==\"Antwerp\":\n",
    "            city=Ant_full\n",
    "        elif location==\"Liege\":\n",
    "            city=Lie_full\n",
    "        else:\n",
    "            print(\"Please select on of the cities: Brussels, Antwerp, Liege\")\n",
    "            return None\n",
    "        standardizer_2=StandardScaler()\n",
    "        trans=PolynomialFeatures(degree=2, include_bias=False)\n",
    "        pipe=Pipeline([('stand_2', standardizer_2),\n",
    "                       ('trans', trans)])\n",
    "        hr_2=HuberRegressor(fit_intercept=True, alpha=4.137931034482759, epsilon=3.8473684210526318)\n",
    "        hr_2.fit(pipe.fit_transform(city['Year'].values.reshape(-1, 1)), city['Severe'])\n",
    "        huber_pred=hr_2.predict(pipe.transform(np.arange(2021, year+1).reshape(-1, 1)))\n",
    "        lr_2=LinearRegression(fit_intercept=True)\n",
    "        lr_2.fit(pipe.fit_transform(city['Year'].values.reshape(-1, 1)), city['Severe'])\n",
    "        linreg_pred=lr_2.predict(pipe.transform(np.arange(2021, year+1).reshape(-1, 1)))\n",
    "        df=pd.DataFrame(data={'Year':np.arange(2021, year+1), 'Exluding the possible outliers':huber_pred, 'Including the possible outliers':linreg_pred})\n",
    "        print('\\n')\n",
    "        print(\"Predictions for the number of heatwave days in \"+location+\" until \" +str(year))\n",
    "        print('\\n')\n",
    "        print(df.to_string(index=False))\n",
    "        if year>2040:\n",
    "            print(\"\\n\")\n",
    "            print(\"Predictions beyond 2040 might not be reliable\")\n",
    "    except:\n",
    "        print(\"Unknown error\")\n",
    "        \n",
    "        "
   ]
  },
  {
   "cell_type": "code",
   "execution_count": 72,
   "id": "457f5df7",
   "metadata": {},
   "outputs": [
    {
     "name": "stdout",
     "output_type": "stream",
     "text": [
      "\n",
      "\n",
      "Predictions for the number of heatwave days in Liege until 2030\n",
      "\n",
      "\n",
      " Year  Exluding the possible outliers  Including the possible outliers\n",
      " 2021                        8.412607                         9.558216\n",
      " 2022                        8.681008                         9.897771\n",
      " 2023                        8.955152                        10.244674\n",
      " 2024                        9.235040                        10.598925\n",
      " 2025                        9.520673                        10.960523\n",
      " 2026                        9.812049                        11.329468\n",
      " 2027                       10.109170                        11.705762\n",
      " 2028                       10.412035                        12.089402\n",
      " 2029                       10.720643                        12.480391\n",
      " 2030                       11.034996                        12.878727\n"
     ]
    }
   ],
   "source": [
    "predictions(\"Liege\", 2030)"
   ]
  },
  {
   "cell_type": "code",
   "execution_count": 73,
   "id": "df6ac205",
   "metadata": {},
   "outputs": [
    {
     "name": "stdout",
     "output_type": "stream",
     "text": [
      "Predicition horizon is too far, showing only until 2040\n",
      "\n",
      "\n",
      "Predictions for the number of heatwave days in Brussels until 2040\n",
      "\n",
      "\n",
      " Year  Exluding the possible outliers  Including the possible outliers\n",
      " 2021                        7.500635                         8.415258\n",
      " 2022                        7.673184                         8.635550\n",
      " 2023                        7.848719                         8.859725\n",
      " 2024                        8.027240                         9.087782\n",
      " 2025                        8.208747                         9.319723\n",
      " 2026                        8.393240                         9.555547\n",
      " 2027                        8.580719                         9.795254\n",
      " 2028                        8.771184                        10.038844\n",
      " 2029                        8.964635                        10.286317\n",
      " 2030                        9.161072                        10.537673\n",
      " 2031                        9.360495                        10.792912\n",
      " 2032                        9.562904                        11.052035\n",
      " 2033                        9.768298                        11.315040\n",
      " 2034                        9.976679                        11.581928\n",
      " 2035                       10.188046                        11.852700\n",
      " 2036                       10.402398                        12.127354\n",
      " 2037                       10.619737                        12.405892\n",
      " 2038                       10.840061                        12.688312\n",
      " 2039                       11.063371                        12.974616\n",
      " 2040                       11.289668                        13.264803\n"
     ]
    }
   ],
   "source": [
    "predictions(\"Brussels\", 2060)"
   ]
  },
  {
   "cell_type": "code",
   "execution_count": null,
   "id": "153449c1",
   "metadata": {},
   "outputs": [],
   "source": []
  }
 ],
 "metadata": {
  "kernelspec": {
   "display_name": "Python 3",
   "language": "python",
   "name": "python3"
  },
  "language_info": {
   "codemirror_mode": {
    "name": "ipython",
    "version": 3
   },
   "file_extension": ".py",
   "mimetype": "text/x-python",
   "name": "python",
   "nbconvert_exporter": "python",
   "pygments_lexer": "ipython3",
   "version": "3.9.5"
  }
 },
 "nbformat": 4,
 "nbformat_minor": 5
}
